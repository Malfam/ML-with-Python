{
 "cells": [
  {
   "cell_type": "code",
   "execution_count": 1,
   "id": "9c94959f",
   "metadata": {},
   "outputs": [],
   "source": [
    "#1. Perform Steps 1 and 2 of the \"Exercise 1\" of this chapter, i.e., load the diabetes dataset into the workspace, and then shrink it to only one feature \"bmi.\" This the new dataset that we will use for this exercise.\n",
    "#2. Train a K-NN regression model with K=3 on the new dataset obtained in the previous exercise.\n",
    "#3. Plot and display the fitted regression curve on the scatter plot.\n",
    "#4. Compare the MSE, MAE, and the R² of the K-NN regression model to those of the linear regression model. Which model performs better?"
   ]
  },
  {
   "cell_type": "code",
   "execution_count": 2,
   "id": "452f735b",
   "metadata": {},
   "outputs": [
    {
     "name": "stdout",
     "output_type": "stream",
     "text": [
      "Dataset contains 442 samples and 10 features.\n",
      "\n",
      "              age         sex         bmi          bp          tc         ldl  \\\n",
      "count  442.000000  442.000000  442.000000  442.000000  442.000000  442.000000   \n",
      "mean    48.518100    1.468326   26.375792   94.647014  189.140271  115.439140   \n",
      "std     13.109028    0.499561    4.418122   13.831283   34.608052   30.413081   \n",
      "min     19.000000    1.000000   18.000000   62.000000   97.000000   41.600000   \n",
      "25%     38.250000    1.000000   23.200000   84.000000  164.250000   96.050000   \n",
      "50%     50.000000    1.000000   25.700000   93.000000  186.000000  113.000000   \n",
      "75%     59.000000    2.000000   29.275000  105.000000  209.750000  134.500000   \n",
      "max     79.000000    2.000000   42.200000  133.000000  301.000000  242.400000   \n",
      "\n",
      "              hdl         tch         ltg         glu  \n",
      "count  442.000000  442.000000  442.000000  442.000000  \n",
      "mean    49.788462    4.070249    4.641411   91.260181  \n",
      "std     12.934202    1.290450    0.522391   11.496335  \n",
      "min     22.000000    2.000000    3.258100   58.000000  \n",
      "25%     40.250000    3.000000    4.276700   83.250000  \n",
      "50%     48.000000    4.000000    4.620050   91.000000  \n",
      "75%     57.750000    5.000000    4.997200   98.000000  \n",
      "max     99.000000    9.090000    6.107000  124.000000  \n",
      "\n",
      "Number of missing values in each feature: \n",
      "age    0\n",
      "sex    0\n",
      "bmi    0\n",
      "bp     0\n",
      "tc     0\n",
      "ldl    0\n",
      "hdl    0\n",
      "tch    0\n",
      "ltg    0\n",
      "glu    0\n",
      "dtype: int64\n"
     ]
    }
   ],
   "source": [
    "#step 1\n",
    "import pandas as pd\n",
    "\n",
    "data = pd.read_csv('C:\\\\Users\\\\malfa\\\\Desktop\\\\python program course\\\\diabetes.csv')\n",
    "y = data.pop(\"response_interest\")\n",
    "N, p = data.shape\n",
    "print(\"Dataset contains {} samples and {} features.\\n\".format(N, p))\n",
    "\n",
    "print(data.describe())\n",
    "\n",
    "print(\"\\nNumber of missing values in each feature: \")\n",
    "print(data.isnull().sum())\n",
    "\n",
    "samples_with_missing_value = data.isnull().any(axis=1)\n",
    "y = y[~samples_with_missing_value]\n",
    "X = data.dropna()"
   ]
  },
  {
   "cell_type": "code",
   "execution_count": 3,
   "id": "04b466fb",
   "metadata": {},
   "outputs": [],
   "source": [
    "from sklearn.neighbors import KNeighborsRegressor"
   ]
  },
  {
   "cell_type": "code",
   "execution_count": 4,
   "id": "8e894296",
   "metadata": {},
   "outputs": [],
   "source": [
    "knn_reg = KNeighborsRegressor(n_neighbors=3, metric='euclidean')"
   ]
  },
  {
   "cell_type": "code",
   "execution_count": 5,
   "id": "0a3e6433",
   "metadata": {},
   "outputs": [
    {
     "data": {
      "text/plain": [
       "KNeighborsRegressor(metric='euclidean', n_neighbors=3)"
      ]
     },
     "execution_count": 5,
     "metadata": {},
     "output_type": "execute_result"
    }
   ],
   "source": [
    "knn_reg.fit(X, y)"
   ]
  },
  {
   "cell_type": "code",
   "execution_count": 6,
   "id": "3f23f909",
   "metadata": {},
   "outputs": [
    {
     "data": {
      "text/plain": [
       "KNeighborsRegressor(metric='euclidean', n_neighbors=3)"
      ]
     },
     "execution_count": 6,
     "metadata": {},
     "output_type": "execute_result"
    }
   ],
   "source": [
    "KNeighborsRegressor(algorithm='auto', leaf_size=30, metric='euclidean',\n",
    "                    metric_params=None, n_jobs=None, n_neighbors=3, p=2,\n",
    "                    weights='uniform')"
   ]
  },
  {
   "cell_type": "code",
   "execution_count": 7,
   "id": "37a66f2e",
   "metadata": {},
   "outputs": [
    {
     "name": "stdout",
     "output_type": "stream",
     "text": [
      "Actual target value for the sample in index 3 = 206.00\n",
      "Estimated target value for the sample in index 3 = 222.00\n"
     ]
    }
   ],
   "source": [
    "x_test = X.iloc[3:4,:]\n",
    "y_hat_test = knn_reg.predict(x_test)\n",
    "print(\"Actual target value for the sample in index 3 = {:.2f}\".format(y[3]))\n",
    "print(\"Estimated target value for the sample in index 3 = {:.2f}\".format(y_hat_test[0]))"
   ]
  },
  {
   "cell_type": "code",
   "execution_count": 8,
   "id": "ce3ae015",
   "metadata": {},
   "outputs": [],
   "source": [
    "#step 2\n",
    "X_new = X.copy()\n",
    "X_new = X_new.loc[range(442), \"bmi\"]\n",
    "y_new = y.copy()\n",
    "y_new = y_new.loc[range(442)]"
   ]
  },
  {
   "cell_type": "code",
   "execution_count": 9,
   "id": "f1dfcbcf",
   "metadata": {},
   "outputs": [
    {
     "data": {
      "image/png": "[encoded data removed]",
      "text/plain": [
       "<Figure size 432x288 with 1 Axes>"
      ]
     },
     "metadata": {
      "needs_background": "light"
     },
     "output_type": "display_data"
    }
   ],
   "source": [
    "import matplotlib.pyplot as plt\n",
    "fig, ax = plt.subplots()\n",
    "ax.scatter(X_new, y_new, color='blue', marker='.', linewidth=1.75, label='Data points')\n",
    "ax.set_xlabel(\"x : bmi\", fontsize=12);\n",
    "ax.set_ylabel(\"y : response of interest\", fontsize=12)\n",
    "plt.show()"
   ]
  },
  {
   "cell_type": "code",
   "execution_count": 10,
   "id": "2c26e80c",
   "metadata": {},
   "outputs": [
    {
     "data": {
      "text/plain": [
       "KNeighborsRegressor(metric='euclidean', n_neighbors=3)"
      ]
     },
     "execution_count": 10,
     "metadata": {},
     "output_type": "execute_result"
    }
   ],
   "source": [
    "X_new = X_new.values\n",
    "X_new = X_new.reshape(-1, 1)\n",
    "knn_reg_new = KNeighborsRegressor(n_neighbors=3, metric='euclidean')\n",
    "knn_reg_new.fit(X_new, y_new)"
   ]
  },
  {
   "cell_type": "code",
   "execution_count": 11,
   "id": "71376609",
   "metadata": {},
   "outputs": [
    {
     "data": {
      "image/png": "[encoded data removed]",
      "text/plain": [
       "<Figure size 432x288 with 1 Axes>"
      ]
     },
     "metadata": {
      "needs_background": "light"
     },
     "output_type": "display_data"
    }
   ],
   "source": [
    "#step 3\n",
    "import matplotlib.pyplot as plt\n",
    "import numpy as np\n",
    "fig, ax = plt.subplots()\n",
    "ax.scatter(X_new,y_new, color='blue', marker='.',linewidth=1.75,label='Data points')\n",
    "ax.set_xlabel(\"x : bmi\", fontsize=12);\n",
    "ax.set_ylabel(\"y : response of interest\", fontsize=12)\n",
    "\n",
    "X_test = np.linspace(0,50,100).reshape(-1,1)\n",
    "y_pred = knn_reg_new.predict(X_test)\n",
    "ax.plot(X_test, y_pred, color='red', linewidth=1.75, label=\"K-NN Regressor\")\n",
    "ax.legend(fontsize=12)\n",
    "\n",
    "plt.show()"
   ]
  },
  {
   "cell_type": "code",
   "execution_count": 12,
   "id": "4f25ebaa",
   "metadata": {},
   "outputs": [
    {
     "name": "stdout",
     "output_type": "stream",
     "text": [
      "Training set MSE = 2684.03\n",
      "Training set MAE = 41.01\n",
      "Training set R-sqaured = 0.55\n"
     ]
    }
   ],
   "source": [
    "#step 4\n",
    "from sklearn.metrics import mean_squared_error\n",
    "from sklearn.metrics import mean_absolute_error\n",
    "from sklearn.metrics import r2_score\n",
    "\n",
    "y_test = knn_reg.predict(X)\n",
    "mse = mean_squared_error(y, y_test)\n",
    "mae = mean_absolute_error(y, y_test)\n",
    "r2 = r2_score(y, y_test)\n",
    "print(\"Training set MSE = {:.2f}\".format(mse))\n",
    "print(\"Training set MAE = {:.2f}\".format(mae))\n",
    "print(\"Training set R-sqaured = {:.2f}\".format(r2))"
   ]
  },
  {
   "cell_type": "code",
   "execution_count": 13,
   "id": "82a9972a",
   "metadata": {},
   "outputs": [],
   "source": [
    "#R2 provides an indication of goodness of fit and therefore, \n",
    "#a measure of how well the unseen samples are likely to be predicted by the model.\n",
    "#both of them are 0.5 and have Moderate fitting."
   ]
  }
 ],
 "metadata": {
  "kernelspec": {
   "display_name": "Python 3 (ipykernel)",
   "language": "python",
   "name": "python3"
  },
  "language_info": {
   "codemirror_mode": {
    "name": "ipython",
    "version": 3
   },
   "file_extension": ".py",
   "mimetype": "text/x-python",
   "name": "python",
   "nbconvert_exporter": "python",
   "pygments_lexer": "ipython3",
   "version": "3.9.7"
  }
 },
 "nbformat": 4,
 "nbformat_minor": 5
}
