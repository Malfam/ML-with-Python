{
 "cells": [
  {
   "cell_type": "code",
   "execution_count": 1,
   "id": "80cbd0b8",
   "metadata": {},
   "outputs": [],
   "source": [
    "#Write a Python script according to the following steps:\n",
    "#1. Use the following code snippet to import the Wine recognition dataset into the workspace (it is suggested that you read the documentation of this dataset):\n",
    "   \n",
    "#   from sklearn.datasets import load_wine\n",
    "#   X, y = load_wine(return_X_y=True)\n",
    "\n",
    "#The arrays X and y will contain the data samples and target class labels, respectively.\n",
    "#2. Split X and y into training and testing sets, with 75% and 25% of data, respectively.\n",
    "#3. Visualize the scatter plot of the training samples based on the first two features (X_train[:,0] and X_train[:,1]). The horizontal and the vertical axes should represent the first and the second feature, respectively. Plot the samples with y=0 as red dots, with y=1 as green dots, and with y=2 as orange dots. Are these two dimensions enough for the separation of the classes?\n",
    "#4. Train two K-NN classifiers on the training set with K=3 and K=5.\n",
    "#5. Evaluate both models by computing their training and testing accuracies. Which model performs better?\n",
    "#6. Compute and display the confusion matrix of the testing set for both models and compare the results."
   ]
  },
  {
   "cell_type": "code",
   "execution_count": 2,
   "id": "13acb29e",
   "metadata": {},
   "outputs": [],
   "source": [
    "#step1\n",
    "\n",
    "import sklearn\n",
    "import numpy as np"
   ]
  },
  {
   "cell_type": "code",
   "execution_count": 3,
   "id": "e1c86502",
   "metadata": {},
   "outputs": [],
   "source": [
    "from sklearn.datasets import load_wine\n",
    "X, y = load_wine(return_X_y=True)"
   ]
  },
  {
   "cell_type": "code",
   "execution_count": 4,
   "id": "ca51dd6c",
   "metadata": {},
   "outputs": [
    {
     "name": "stdout",
     "output_type": "stream",
     "text": [
      "[0 0 0 0 0 0 0 0 0 0 0 0 0 0 0 0 0 0 0 0 0 0 0 0 0 0 0 0 0 0 0 0 0 0 0 0 0\n",
      " 0 0 0 0 0 0 0 0 0 0 0 0 0 0 0 0 0 0 0 0 0 0 1 1 1 1 1 1 1 1 1 1 1 1 1 1 1\n",
      " 1 1 1 1 1 1 1 1 1 1 1 1 1 1 1 1 1 1 1 1 1 1 1 1 1 1 1 1 1 1 1 1 1 1 1 1 1\n",
      " 1 1 1 1 1 1 1 1 1 1 1 1 1 1 1 1 1 1 1 2 2 2 2 2 2 2 2 2 2 2 2 2 2 2 2 2 2\n",
      " 2 2 2 2 2 2 2 2 2 2 2 2 2 2 2 2 2 2 2 2 2 2 2 2 2 2 2 2 2 2]\n"
     ]
    }
   ],
   "source": [
    "print(y)"
   ]
  },
  {
   "cell_type": "code",
   "execution_count": 5,
   "id": "024ac039",
   "metadata": {},
   "outputs": [],
   "source": [
    "#step2\n",
    "\n",
    "from sklearn.model_selection import train_test_split\n",
    "X_train, X_test, y_train, y_test = train_test_split(\n",
    "X, y, test_size=0.25, stratify=y)"
   ]
  },
  {
   "cell_type": "code",
   "execution_count": 6,
   "id": "13165480",
   "metadata": {},
   "outputs": [
    {
     "data": {
      "text/plain": [
       "<matplotlib.collections.PathCollection at 0x1e8acfec700>"
      ]
     },
     "execution_count": 6,
     "metadata": {},
     "output_type": "execute_result"
    },
    {
     "data": {
      "image/png": "[encoded data removed]",
      "text/plain": [
       "<Figure size 432x288 with 1 Axes>"
      ]
     },
     "metadata": {
      "needs_background": "light"
     },
     "output_type": "display_data"
    }
   ],
   "source": [
    "#step3\n",
    "\n",
    "import matplotlib.pyplot as plt\n",
    "plt.scatter(X[y==0,0],X[y==0,1],c='red')\n",
    "plt.scatter(X[y==1,0],X[y==1,1],c='green')\n",
    "plt.scatter(X[y==1,0],X[y==1,1],c='orange')"
   ]
  },
  {
   "cell_type": "code",
   "execution_count": 7,
   "id": "fc0a653c",
   "metadata": {},
   "outputs": [],
   "source": [
    "#Are these two dimensions enough for the separation of the classes? Yes."
   ]
  },
  {
   "cell_type": "code",
   "execution_count": 8,
   "id": "a948538a",
   "metadata": {},
   "outputs": [],
   "source": [
    "#step4\n",
    "\n",
    "from sklearn.neighbors import KNeighborsClassifier"
   ]
  },
  {
   "cell_type": "code",
   "execution_count": 9,
   "id": "e219047c",
   "metadata": {},
   "outputs": [],
   "source": [
    "A = knn = KNeighborsClassifier(n_neighbors=3, metric='euclidean')\n",
    "B = knn = KNeighborsClassifier(n_neighbors=5, metric='euclidean')"
   ]
  },
  {
   "cell_type": "code",
   "execution_count": 10,
   "id": "470e32b5",
   "metadata": {},
   "outputs": [
    {
     "data": {
      "text/plain": [
       "KNeighborsClassifier(metric='euclidean')"
      ]
     },
     "execution_count": 10,
     "metadata": {},
     "output_type": "execute_result"
    }
   ],
   "source": [
    "knn.fit(X_train, y_train)"
   ]
  },
  {
   "cell_type": "code",
   "execution_count": 11,
   "id": "da0200f9",
   "metadata": {},
   "outputs": [],
   "source": [
    "knn_list = []\n",
    "for k in range(3, 5):\n",
    "    knn_list.append(KNeighborsClassifier(n_neighbors=k, metric='euclidean'))\n",
    "    knn_list[-1].fit(X_train, y_train)"
   ]
  },
  {
   "cell_type": "code",
   "execution_count": 12,
   "id": "c33dacff",
   "metadata": {},
   "outputs": [
    {
     "name": "stdout",
     "output_type": "stream",
     "text": [
      "Training accuracy of K-NN classifier (K=3) = 0.7895\n",
      "Training accuracy of K-NN classifier (K=5) = 0.7895\n"
     ]
    }
   ],
   "source": [
    "#step5\n",
    "\n",
    "training_acc = knn.score(X_train, y_train)\n",
    "print(\"Training accuracy of K-NN classifier (K=3) = {:.4f}\".format(training_acc))\n",
    "print(\"Training accuracy of K-NN classifier (K=5) = {:.4f}\".format(training_acc))"
   ]
  },
  {
   "cell_type": "code",
   "execution_count": 13,
   "id": "87f82037",
   "metadata": {},
   "outputs": [
    {
     "name": "stdout",
     "output_type": "stream",
     "text": [
      "Test accuracy of K-NN classifier (K=3) = 0.7333\n",
      "Test accuracy of K-NN classifier (K=5) = 0.7333\n"
     ]
    }
   ],
   "source": [
    "test_acc = knn.score(X_test, y_test)\n",
    "print(\"Test accuracy of K-NN classifier (K=3) = {:.4f}\".format(test_acc))\n",
    "print(\"Test accuracy of K-NN classifier (K=5) = {:.4f}\".format(test_acc))"
   ]
  },
  {
   "cell_type": "code",
   "execution_count": 14,
   "id": "8e5d73fb",
   "metadata": {},
   "outputs": [],
   "source": [
    "#Which model performs better? This result indicates that our classifier is 75.94% accurate on the training set \n",
    "#and 75.56% accurate on the testing set. This is an acceptable performance; the model is neither overfitted nor underfitted."
   ]
  },
  {
   "cell_type": "code",
   "execution_count": 15,
   "id": "e394aee2",
   "metadata": {},
   "outputs": [
    {
     "data": {
      "image/png": "[encoded data removed]",
      "text/plain": [
       "<Figure size 936x324 with 4 Axes>"
      ]
     },
     "metadata": {
      "needs_background": "light"
     },
     "output_type": "display_data"
    }
   ],
   "source": [
    "#step6\n",
    "\n",
    "from sklearn.metrics import plot_confusion_matrix\n",
    "\n",
    "fig, ax = plt.subplots(1,2, figsize=(13,4.5))\n",
    "plot_confusion_matrix(knn, X_train, y_train, cmap=plt.cm.Oranges, ax=ax[0])\n",
    "ax[0].set_title('Training confusion matrix (K=3)')\n",
    "\n",
    "plot_confusion_matrix(knn, X_test, y_test, cmap=plt.cm.Oranges, ax=ax[1])\n",
    "ax[1].set_title('Test confusion matrix (K=5)')\n",
    "plt.show()"
   ]
  },
  {
   "cell_type": "code",
   "execution_count": 16,
   "id": "232584e8",
   "metadata": {},
   "outputs": [],
   "source": [
    "#compare the results? Based on the confusion matrices, the errors equally occur for the samples of all three classes. \n",
    "#In other words, there is no class for which the wrong predictions are higher than those of the others."
   ]
  }
 ],
 "metadata": {
  "kernelspec": {
   "display_name": "Python 3 (ipykernel)",
   "language": "python",
   "name": "python3"
  },
  "language_info": {
   "codemirror_mode": {
    "name": "ipython",
    "version": 3
   },
   "file_extension": ".py",
   "mimetype": "text/x-python",
   "name": "python",
   "nbconvert_exporter": "python",
   "pygments_lexer": "ipython3",
   "version": "3.9.7"
  }
 },
 "nbformat": 4,
 "nbformat_minor": 5
}
