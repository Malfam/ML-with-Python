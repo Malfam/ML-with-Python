{
 "cells": [
  {
   "cell_type": "code",
   "execution_count": 1,
   "id": "ea817185",
   "metadata": {},
   "outputs": [],
   "source": [
    "#Write a Python program through the following steps:\n",
    "#1. Create a list variable, names, which contains the names of three of your friends.\n",
    "#2. Create a Numpy array, ages, that contains the ages of your friends in the same order that you entered their names in names variable.\n",
    "#3. Use np.random to create a 1-by-3 array of random numbers, and store it in variable rnd.\n",
    "#4. Find the index (position) of the maximum value of rnd and store it in a variable named max_rnd.\n",
    "#5. Change the element of names in the position max_rnd to your name, and the element of ages in the position max_rnd to your age."
   ]
  },
  {
   "cell_type": "code",
   "execution_count": 2,
   "id": "ac0357d7",
   "metadata": {},
   "outputs": [],
   "source": [
    "#step 1\n",
    "\n",
    "import numpy as np\n",
    "names = ['Anna', 'Stan', 'Sarah']"
   ]
  },
  {
   "cell_type": "code",
   "execution_count": 3,
   "id": "4319b232",
   "metadata": {},
   "outputs": [
    {
     "name": "stdout",
     "output_type": "stream",
     "text": [
      "[25 45 37]\n",
      "<class 'numpy.ndarray'>\n"
     ]
    }
   ],
   "source": [
    "#step 2\n",
    "\n",
    "ages = np.array([25, 45, 37])\n",
    "print(ages)\n",
    "print(type(ages))"
   ]
  },
  {
   "cell_type": "code",
   "execution_count": 4,
   "id": "8ec29ff1",
   "metadata": {},
   "outputs": [
    {
     "name": "stdout",
     "output_type": "stream",
     "text": [
      "[0.14971169 0.07306757 0.65097602]\n"
     ]
    }
   ],
   "source": [
    "#step 3\n",
    "\n",
    "rnd = np.random.random(3)\n",
    "print(rnd)"
   ]
  },
  {
   "cell_type": "code",
   "execution_count": 5,
   "id": "9b1ceedf",
   "metadata": {},
   "outputs": [
    {
     "name": "stdout",
     "output_type": "stream",
     "text": [
      "0.6509760194559157\n",
      "(array([2], dtype=int64),)\n",
      "2\n"
     ]
    }
   ],
   "source": [
    "#step 4\n",
    "\n",
    "largest = np.max(rnd)\n",
    "print(largest)\n",
    "position = np.where(rnd == largest)\n",
    "print(position)\n",
    "max_rnd = position[0][0]\n",
    "print(max_rnd)"
   ]
  },
  {
   "cell_type": "code",
   "execution_count": 6,
   "id": "b4019d49",
   "metadata": {},
   "outputs": [
    {
     "name": "stdout",
     "output_type": "stream",
     "text": [
      "['Anna', 'Stan', 'Maliheh'] [25 45 38]\n"
     ]
    }
   ],
   "source": [
    "#step 5\n",
    "\n",
    "names[max_rnd] = \"Maliheh\"\n",
    "ages[max_rnd] = 38\n",
    "print(names, ages)"
   ]
  }
 ],
 "metadata": {
  "kernelspec": {
   "display_name": "Python 3 (ipykernel)",
   "language": "python",
   "name": "python3"
  },
  "language_info": {
   "codemirror_mode": {
    "name": "ipython",
    "version": 3
   },
   "file_extension": ".py",
   "mimetype": "text/x-python",
   "name": "python",
   "nbconvert_exporter": "python",
   "pygments_lexer": "ipython3",
   "version": "3.9.7"
  }
 },
 "nbformat": 4,
 "nbformat_minor": 5
}
