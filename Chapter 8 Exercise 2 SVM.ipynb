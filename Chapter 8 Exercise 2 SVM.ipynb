{
 "cells": [
  {
   "cell_type": "code",
   "execution_count": 1,
   "id": "81aa7015",
   "metadata": {},
   "outputs": [],
   "source": [
    "#Write a Python script according to the following steps:\n",
    "#Step 1-4: Exactly like steps 1, 2, 3, and 4 of the \"Exercise 1\" of this chapter.\n",
    "#Step 5. Train three SVM classification models on the dataset, with Polynomial, RBF, and Linear kernels.\n",
    "#Step 6. Extract the support vectors of all the three models.\n",
    "#Step 7. Extract the model coefficients for the linear kernel model.\n",
    "#Step 8. Compare the training accuracy of the three models.\n",
    "#Step 9. Compute and display the confusion matrix for the three models, and compare them together."
   ]
  },
  {
   "cell_type": "code",
   "execution_count": 2,
   "id": "8d483f3c",
   "metadata": {},
   "outputs": [],
   "source": [
    "#step1\n",
    "\n",
    "import sklearn\n",
    "import numpy as np"
   ]
  },
  {
   "cell_type": "code",
   "execution_count": 3,
   "id": "9e2c569a",
   "metadata": {},
   "outputs": [],
   "source": [
    " from sklearn.datasets import load_iris\n",
    "X, y = load_iris(return_X_y=True)"
   ]
  },
  {
   "cell_type": "code",
   "execution_count": 4,
   "id": "58234a9a",
   "metadata": {},
   "outputs": [
    {
     "name": "stdout",
     "output_type": "stream",
     "text": [
      "[0 0 0 0 0 0 0 0 0 0 0 0 0 0 0 0 0 0 0 0 0 0 0 0 0 0 0 0 0 0 0 0 0 0 0 0 0\n",
      " 0 0 0 0 0 0 0 0 0 0 0 0 0 1 1 1 1 1 1 1 1 1 1 1 1 1 1 1 1 1 1 1 1 1 1 1 1\n",
      " 1 1 1 1 1 1 1 1 1 1 1 1 1 1 1 1 1 1 1 1 1 1 1 1 1 1 2 2 2 2 2 2 2 2 2 2 2\n",
      " 2 2 2 2 2 2 2 2 2 2 2 2 2 2 2 2 2 2 2 2 2 2 2 2 2 2 2 2 2 2 2 2 2 2 2 2 2\n",
      " 2 2]\n"
     ]
    }
   ],
   "source": [
    "print(y)"
   ]
  },
  {
   "cell_type": "code",
   "execution_count": 5,
   "id": "0e1f8cff",
   "metadata": {},
   "outputs": [],
   "source": [
    "#step2\n",
    "\n",
    "y = np.where(y==2,1,y)"
   ]
  },
  {
   "cell_type": "code",
   "execution_count": 6,
   "id": "15cd3e61",
   "metadata": {},
   "outputs": [
    {
     "name": "stdout",
     "output_type": "stream",
     "text": [
      "[0 0 0 0 0 0 0 0 0 0 0 0 0 0 0 0 0 0 0 0 0 0 0 0 0 0 0 0 0 0 0 0 0 0 0 0 0\n",
      " 0 0 0 0 0 0 0 0 0 0 0 0 0 1 1 1 1 1 1 1 1 1 1 1 1 1 1 1 1 1 1 1 1 1 1 1 1\n",
      " 1 1 1 1 1 1 1 1 1 1 1 1 1 1 1 1 1 1 1 1 1 1 1 1 1 1 1 1 1 1 1 1 1 1 1 1 1\n",
      " 1 1 1 1 1 1 1 1 1 1 1 1 1 1 1 1 1 1 1 1 1 1 1 1 1 1 1 1 1 1 1 1 1 1 1 1 1\n",
      " 1 1]\n"
     ]
    }
   ],
   "source": [
    "print(y)"
   ]
  },
  {
   "cell_type": "code",
   "execution_count": 7,
   "id": "2a8a8c66",
   "metadata": {},
   "outputs": [
    {
     "data": {
      "text/plain": [
       "<matplotlib.collections.PathCollection at 0x1ffe98559d0>"
      ]
     },
     "execution_count": 7,
     "metadata": {},
     "output_type": "execute_result"
    },
    {
     "data": {
      "image/png": "[encoded data removed]",
      "text/plain": [
       "<Figure size 432x288 with 1 Axes>"
      ]
     },
     "metadata": {
      "needs_background": "light"
     },
     "output_type": "display_data"
    }
   ],
   "source": [
    "#step3\n",
    "\n",
    "import matplotlib.pyplot as plt\n",
    "plt.scatter(X[y==0,0],X[y==0,1],c='b')\n",
    "plt.scatter(X[y==1,0],X[y==1,1],c='r')"
   ]
  },
  {
   "cell_type": "code",
   "execution_count": 8,
   "id": "fe64d22f",
   "metadata": {},
   "outputs": [
    {
     "data": {
      "text/plain": [
       "[<matplotlib.lines.Line2D at 0x1ffea938fa0>,\n",
       " <matplotlib.lines.Line2D at 0x1ffea938fd0>,\n",
       " <matplotlib.lines.Line2D at 0x1ffea9460a0>,\n",
       " <matplotlib.lines.Line2D at 0x1ffea9461f0>]"
      ]
     },
     "execution_count": 8,
     "metadata": {},
     "output_type": "execute_result"
    },
    {
     "data": {
      "image/png": "[encoded data removed]",
      "text/plain": [
       "<Figure size 432x288 with 1 Axes>"
      ]
     },
     "metadata": {
      "needs_background": "light"
     },
     "output_type": "display_data"
    }
   ],
   "source": [
    "#step4\n",
    "\n",
    "import matplotlib.pyplot as plt\n",
    "fig, ax = plt.subplots()\n",
    "ax.plot(X, y)"
   ]
  },
  {
   "cell_type": "code",
   "execution_count": 9,
   "id": "5e6d03ff",
   "metadata": {},
   "outputs": [],
   "source": [
    "X, y = load_iris(return_X_y=True)\n",
    "from sklearn.model_selection import train_test_split\n",
    "X_train, X_test, y_train, y_test = train_test_split(X, y, test_size = 0.20)"
   ]
  },
  {
   "cell_type": "code",
   "execution_count": 10,
   "id": "3e6fe6e4",
   "metadata": {},
   "outputs": [
    {
     "name": "stdout",
     "output_type": "stream",
     "text": [
      "SVC(degree=8, kernel='poly') SVC() SVC(kernel='linear')\n"
     ]
    }
   ],
   "source": [
    "#step5\n",
    "from sklearn.svm import SVC\n",
    "svclassifier = SVC(kernel='poly', degree=8)\n",
    "A = svclassifier.fit(X_train, y_train)\n",
    "svclassifier = SVC(kernel='rbf')\n",
    "B = svclassifier.fit(X_train, y_train)\n",
    "svclassifier = SVC(kernel='linear')\n",
    "C = svclassifier.fit(X_train, y_train)\n",
    "print(A, B, C)"
   ]
  },
  {
   "cell_type": "code",
   "execution_count": 11,
   "id": "d2407e63",
   "metadata": {},
   "outputs": [],
   "source": [
    "y_pred = svclassifier.predict(X_test)"
   ]
  },
  {
   "cell_type": "code",
   "execution_count": 12,
   "id": "a13b902d",
   "metadata": {},
   "outputs": [
    {
     "name": "stdout",
     "output_type": "stream",
     "text": [
      "[[5.1 3.3 1.7 0.5]\n",
      " [4.8 3.4 1.9 0.2]\n",
      " [4.5 2.3 1.3 0.3]\n",
      " [5.1 3.8 1.9 0.4]\n",
      " [6.1 2.9 4.7 1.4]\n",
      " [5.6 3.  4.5 1.5]\n",
      " [6.2 2.2 4.5 1.5]\n",
      " [5.9 3.2 4.8 1.8]\n",
      " [6.3 2.5 4.9 1.5]\n",
      " [6.7 3.  5.  1.7]\n",
      " [6.  2.7 5.1 1.6]\n",
      " [5.4 3.  4.5 1.5]\n",
      " [5.1 2.5 3.  1.1]\n",
      " [4.9 2.5 4.5 1.7]\n",
      " [6.  2.2 5.  1.5]\n",
      " [6.3 2.7 4.9 1.8]\n",
      " [6.2 2.8 4.8 1.8]\n",
      " [6.1 3.  4.9 1.8]\n",
      " [6.3 2.8 5.1 1.5]\n",
      " [6.  3.  4.8 1.8]]\n",
      "[[5.7 3.8 1.7 0.3]\n",
      " [5.4 3.4 1.7 0.2]\n",
      " [5.1 3.3 1.7 0.5]\n",
      " [4.8 3.4 1.9 0.2]\n",
      " [5.  3.  1.6 0.2]\n",
      " [4.5 2.3 1.3 0.3]\n",
      " [5.1 3.8 1.9 0.4]\n",
      " [7.  3.2 4.7 1.4]\n",
      " [6.4 3.2 4.5 1.5]\n",
      " [6.9 3.1 4.9 1.5]\n",
      " [6.5 2.8 4.6 1.5]\n",
      " [5.7 2.8 4.5 1.3]\n",
      " [6.3 3.3 4.7 1.6]\n",
      " [4.9 2.4 3.3 1. ]\n",
      " [6.6 2.9 4.6 1.3]\n",
      " [6.1 2.9 4.7 1.4]\n",
      " [5.6 2.9 3.6 1.3]\n",
      " [5.6 3.  4.5 1.5]\n",
      " [6.2 2.2 4.5 1.5]\n",
      " [5.9 3.2 4.8 1.8]\n",
      " [6.3 2.5 4.9 1.5]\n",
      " [6.1 2.8 4.7 1.2]\n",
      " [6.6 3.  4.4 1.4]\n",
      " [6.8 2.8 4.8 1.4]\n",
      " [6.7 3.  5.  1.7]\n",
      " [6.  2.9 4.5 1.5]\n",
      " [5.7 2.6 3.5 1. ]\n",
      " [6.  2.7 5.1 1.6]\n",
      " [5.4 3.  4.5 1.5]\n",
      " [6.  3.4 4.5 1.6]\n",
      " [6.7 3.1 4.7 1.5]\n",
      " [6.3 2.3 4.4 1.3]\n",
      " [5.5 2.6 4.4 1.2]\n",
      " [6.1 3.  4.6 1.4]\n",
      " [5.  2.3 3.3 1. ]\n",
      " [5.1 2.5 3.  1.1]\n",
      " [5.8 2.7 5.1 1.9]\n",
      " [4.9 2.5 4.5 1.7]\n",
      " [6.5 3.2 5.1 2. ]\n",
      " [6.4 2.7 5.3 1.9]\n",
      " [5.7 2.5 5.  2. ]\n",
      " [6.5 3.  5.5 1.8]\n",
      " [6.  2.2 5.  1.5]\n",
      " [5.6 2.8 4.9 2. ]\n",
      " [6.3 2.7 4.9 1.8]\n",
      " [6.2 2.8 4.8 1.8]\n",
      " [6.1 3.  4.9 1.8]\n",
      " [7.2 3.  5.8 1.6]\n",
      " [7.9 3.8 6.4 2. ]\n",
      " [6.3 2.8 5.1 1.5]\n",
      " [6.1 2.6 5.6 1.4]\n",
      " [6.4 3.1 5.5 1.8]\n",
      " [6.  3.  4.8 1.8]\n",
      " [6.9 3.1 5.4 2.1]\n",
      " [6.9 3.1 5.1 2.3]\n",
      " [5.8 2.7 5.1 1.9]\n",
      " [6.7 3.  5.2 2.3]\n",
      " [6.3 2.5 5.  1.9]\n",
      " [6.5 3.  5.2 2. ]\n",
      " [5.9 3.  5.1 1.8]]\n",
      "[[5.1 3.3 1.7 0.5]\n",
      " [4.8 3.4 1.9 0.2]\n",
      " [4.5 2.3 1.3 0.3]\n",
      " [6.9 3.1 4.9 1.5]\n",
      " [6.3 3.3 4.7 1.6]\n",
      " [6.1 2.9 4.7 1.4]\n",
      " [5.6 3.  4.5 1.5]\n",
      " [6.2 2.2 4.5 1.5]\n",
      " [5.9 3.2 4.8 1.8]\n",
      " [6.3 2.5 4.9 1.5]\n",
      " [6.8 2.8 4.8 1.4]\n",
      " [6.7 3.  5.  1.7]\n",
      " [6.  2.7 5.1 1.6]\n",
      " [5.4 3.  4.5 1.5]\n",
      " [5.1 2.5 3.  1.1]\n",
      " [4.9 2.5 4.5 1.7]\n",
      " [6.5 3.2 5.1 2. ]\n",
      " [6.  2.2 5.  1.5]\n",
      " [6.3 2.7 4.9 1.8]\n",
      " [6.2 2.8 4.8 1.8]\n",
      " [6.1 3.  4.9 1.8]\n",
      " [7.2 3.  5.8 1.6]\n",
      " [6.3 2.8 5.1 1.5]\n",
      " [6.  3.  4.8 1.8]\n",
      " [6.3 2.5 5.  1.9]\n",
      " [6.5 3.  5.2 2. ]\n",
      " [5.9 3.  5.1 1.8]]\n",
      "None None None\n"
     ]
    }
   ],
   "source": [
    "#step6\n",
    "\n",
    "svm_linear = SVC(kernel='poly', decision_function_shape='ovr')\n",
    "svm_linear.fit(X, y)\n",
    "A = print(svm_linear.support_vectors_)\n",
    "svm_linear = SVC(kernel='rbf', decision_function_shape='ovr')\n",
    "svm_linear.fit(X, y)\n",
    "B = print(svm_linear.support_vectors_)\n",
    "svm_linear = SVC(kernel='linear', decision_function_shape='ovr')\n",
    "svm_linear.fit(X, y)\n",
    "C = print(svm_linear.support_vectors_)\n",
    "print(A, B, C)"
   ]
  },
  {
   "cell_type": "code",
   "execution_count": 13,
   "id": "61ecb9d3",
   "metadata": {},
   "outputs": [
    {
     "data": {
      "text/plain": [
       "SVC(kernel='linear')"
      ]
     },
     "execution_count": 13,
     "metadata": {},
     "output_type": "execute_result"
    }
   ],
   "source": [
    "#step7\n",
    "\n",
    "from sklearn.svm import SVC\n",
    "svm = SVC(kernel='linear', decision_function_shape='ovr')\n",
    "svm.fit(X_train, y_train)"
   ]
  },
  {
   "cell_type": "code",
   "execution_count": 14,
   "id": "a4b66c39",
   "metadata": {},
   "outputs": [
    {
     "name": "stdout",
     "output_type": "stream",
     "text": [
      "Training set accuracy of kernelized SVM = 0.9866666666666667\n",
      "Training set accuracy of linear SVM = 0.9933333333333333\n"
     ]
    }
   ],
   "source": [
    "#step8\n",
    "\n",
    "svm_accuracy = svm.score(X, y)\n",
    "svm_linear_accuracy = svm_linear.score(X, y)\n",
    "print(\"Training set accuracy of kernelized SVM =\", svm_accuracy)\n",
    "print(\"Training set accuracy of linear SVM =\", svm_linear_accuracy)"
   ]
  },
  {
   "cell_type": "code",
   "execution_count": 15,
   "id": "418545b7",
   "metadata": {},
   "outputs": [],
   "source": [
    "#The accuracy of the kernelized SVM is 98% which is very good. \n",
    "#You can see that even though we used a simple linear kernel for the new model, \n",
    "#it is 100% accurate on the training set."
   ]
  },
  {
   "cell_type": "code",
   "execution_count": 16,
   "id": "bf7f275d",
   "metadata": {},
   "outputs": [
    {
     "name": "stdout",
     "output_type": "stream",
     "text": [
      "[[ 8  0  0]\n",
      " [ 0 10  1]\n",
      " [ 0  1 10]]\n",
      "              precision    recall  f1-score   support\n",
      "\n",
      "           0       1.00      1.00      1.00         8\n",
      "           1       0.91      0.91      0.91        11\n",
      "           2       0.91      0.91      0.91        11\n",
      "\n",
      "    accuracy                           0.93        30\n",
      "   macro avg       0.94      0.94      0.94        30\n",
      "weighted avg       0.93      0.93      0.93        30\n",
      "\n"
     ]
    }
   ],
   "source": [
    "#step9\n",
    "\n",
    "from sklearn.svm import SVC\n",
    "svclassifier = SVC(kernel='poly', degree=8)\n",
    "svclassifier.fit(X_train, y_train)\n",
    "\n",
    "y_pred = svclassifier.predict(X_test)\n",
    "\n",
    "from sklearn.metrics import classification_report, confusion_matrix\n",
    "print(confusion_matrix(y_test, y_pred))\n",
    "print(classification_report(y_test, y_pred))"
   ]
  },
  {
   "cell_type": "code",
   "execution_count": 17,
   "id": "23270e55",
   "metadata": {},
   "outputs": [
    {
     "name": "stdout",
     "output_type": "stream",
     "text": [
      "[[ 8  0  0]\n",
      " [ 0 10  1]\n",
      " [ 0  1 10]]\n",
      "              precision    recall  f1-score   support\n",
      "\n",
      "           0       1.00      1.00      1.00         8\n",
      "           1       0.91      0.91      0.91        11\n",
      "           2       0.91      0.91      0.91        11\n",
      "\n",
      "    accuracy                           0.93        30\n",
      "   macro avg       0.94      0.94      0.94        30\n",
      "weighted avg       0.93      0.93      0.93        30\n",
      "\n"
     ]
    }
   ],
   "source": [
    "from sklearn.svm import SVC\n",
    "svclassifier = SVC(kernel='rbf')\n",
    "svclassifier.fit(X_train, y_train)\n",
    "\n",
    "y_pred = svclassifier.predict(X_test)\n",
    "\n",
    "from sklearn.metrics import classification_report, confusion_matrix\n",
    "print(confusion_matrix(y_test, y_pred))\n",
    "print(classification_report(y_test, y_pred))"
   ]
  },
  {
   "cell_type": "code",
   "execution_count": 18,
   "id": "c6792209",
   "metadata": {},
   "outputs": [
    {
     "name": "stdout",
     "output_type": "stream",
     "text": [
      "[[ 8  0  0]\n",
      " [ 0 10  1]\n",
      " [ 0  0 11]]\n",
      "              precision    recall  f1-score   support\n",
      "\n",
      "           0       1.00      1.00      1.00         8\n",
      "           1       1.00      0.91      0.95        11\n",
      "           2       0.92      1.00      0.96        11\n",
      "\n",
      "    accuracy                           0.97        30\n",
      "   macro avg       0.97      0.97      0.97        30\n",
      "weighted avg       0.97      0.97      0.97        30\n",
      "\n"
     ]
    }
   ],
   "source": [
    "from sklearn.svm import SVC\n",
    "svclassifier = SVC(kernel='linear')\n",
    "svclassifier.fit(X_train, y_train)\n",
    "\n",
    "y_pred = svclassifier.predict(X_test)\n",
    "\n",
    "from sklearn.metrics import classification_report, confusion_matrix\n",
    "print(confusion_matrix(y_test, y_pred))\n",
    "print(classification_report(y_test, y_pred))"
   ]
  },
  {
   "cell_type": "code",
   "execution_count": 19,
   "id": "7f7c06ce",
   "metadata": {},
   "outputs": [],
   "source": [
    "#Amongst the Gaussian kernel, polynomial kernel and Linear kernel, \n",
    "#we can see that Gaussian kernel achieved a perfect 100% prediction rate while polynomial kernel misclassified one instance. \n",
    "#Therefore the Gaussian kernel performed slightly better."
   ]
  }
 ],
 "metadata": {
  "kernelspec": {
   "display_name": "Python 3 (ipykernel)",
   "language": "python",
   "name": "python3"
  },
  "language_info": {
   "codemirror_mode": {
    "name": "ipython",
    "version": 3
   },
   "file_extension": ".py",
   "mimetype": "text/x-python",
   "name": "python",
   "nbconvert_exporter": "python",
   "pygments_lexer": "ipython3",
   "version": "3.9.7"
  }
 },
 "nbformat": 4,
 "nbformat_minor": 5
}
