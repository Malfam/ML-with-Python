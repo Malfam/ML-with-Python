{
 "cells": [
  {
   "cell_type": "code",
   "execution_count": 1,
   "id": "46dd3cad",
   "metadata": {},
   "outputs": [],
   "source": [
    "#Write a Python program based on the following steps:\n",
    "#1. Download the following dataset, load it into the workspace, and display its first five rows.\n",
    "#   clustering_data.csv\n",
    "#2. Implement the PCA algorithm to reduce the dimensionality of the data to 2.\n",
    "#3. Extract the amount of variance explained by each of the selected principal components in the previous step.\n",
    "#4. Draw the scatter plot of the dimensionality-reduced data (there are no labels, just samples).\n",
    "#5. We want to perform a clustering analysis on this data. Before running the clustering algorithm, give two suggestions for the number of clusters.\n",
    "#6. Apply the k-means clustering algorithm twice on this data with the number of clusters being your suggestions in the previous step.\n",
    "#7. Once again, draw the scatter plot of the dimensionality-reduced data and use the results of k-means (cluster IDs) to color the samples (samples in the same cluster will have the same color). You should draw two scatter plots, one for each suggested k."
   ]
  },
  {
   "cell_type": "code",
   "execution_count": 2,
   "id": "8dee8841",
   "metadata": {},
   "outputs": [
    {
     "data": {
      "text/html": [
       "<div>\n",
       "<style scoped>\n",
       "    .dataframe tbody tr th:only-of-type {\n",
       "        vertical-align: middle;\n",
       "    }\n",
       "\n",
       "    .dataframe tbody tr th {\n",
       "        vertical-align: top;\n",
       "    }\n",
       "\n",
       "    .dataframe thead th {\n",
       "        text-align: right;\n",
       "    }\n",
       "</style>\n",
       "<table border=\"1\" class=\"dataframe\">\n",
       "  <thead>\n",
       "    <tr style=\"text-align: right;\">\n",
       "      <th></th>\n",
       "      <th>Unnamed: 0</th>\n",
       "      <th>Unnamed: 0.1</th>\n",
       "      <th>Unnamed: 0.1.1</th>\n",
       "      <th>Unnamed: 0.1.1.1</th>\n",
       "      <th>Unnamed: 0.1.1.1.1</th>\n",
       "      <th>Unnamed: 0.1.1.1.1.1</th>\n",
       "      <th>Unnamed: 0.1.1.1.1.1.1</th>\n",
       "      <th>Unnamed: 0.1.1.1.1.1.1.1</th>\n",
       "      <th>Unnamed: 0.1.1.1.1.1.1.1.1</th>\n",
       "      <th>Unnamed: 0.1.1.1.1.1.1.1.1.1</th>\n",
       "      <th>...</th>\n",
       "      <th>index</th>\n",
       "      <th>company</th>\n",
       "      <th>body-style</th>\n",
       "      <th>wheel-base</th>\n",
       "      <th>length</th>\n",
       "      <th>engine-type</th>\n",
       "      <th>num-of-cylinders</th>\n",
       "      <th>horsepower</th>\n",
       "      <th>average-mileage</th>\n",
       "      <th>price</th>\n",
       "    </tr>\n",
       "  </thead>\n",
       "  <tbody>\n",
       "    <tr>\n",
       "      <th>0</th>\n",
       "      <td>0</td>\n",
       "      <td>0</td>\n",
       "      <td>0</td>\n",
       "      <td>0</td>\n",
       "      <td>0</td>\n",
       "      <td>0</td>\n",
       "      <td>0</td>\n",
       "      <td>0</td>\n",
       "      <td>0</td>\n",
       "      <td>0</td>\n",
       "      <td>...</td>\n",
       "      <td>0</td>\n",
       "      <td>alfa-romero</td>\n",
       "      <td>convertible</td>\n",
       "      <td>88.6</td>\n",
       "      <td>168.8</td>\n",
       "      <td>dohc</td>\n",
       "      <td>four</td>\n",
       "      <td>111</td>\n",
       "      <td>21</td>\n",
       "      <td>13495.0</td>\n",
       "    </tr>\n",
       "    <tr>\n",
       "      <th>1</th>\n",
       "      <td>1</td>\n",
       "      <td>1</td>\n",
       "      <td>1</td>\n",
       "      <td>1</td>\n",
       "      <td>1</td>\n",
       "      <td>1</td>\n",
       "      <td>1</td>\n",
       "      <td>1</td>\n",
       "      <td>1</td>\n",
       "      <td>1</td>\n",
       "      <td>...</td>\n",
       "      <td>1</td>\n",
       "      <td>alfa-romero</td>\n",
       "      <td>convertible</td>\n",
       "      <td>88.6</td>\n",
       "      <td>168.8</td>\n",
       "      <td>dohc</td>\n",
       "      <td>four</td>\n",
       "      <td>111</td>\n",
       "      <td>21</td>\n",
       "      <td>16500.0</td>\n",
       "    </tr>\n",
       "    <tr>\n",
       "      <th>2</th>\n",
       "      <td>2</td>\n",
       "      <td>2</td>\n",
       "      <td>2</td>\n",
       "      <td>2</td>\n",
       "      <td>2</td>\n",
       "      <td>2</td>\n",
       "      <td>2</td>\n",
       "      <td>2</td>\n",
       "      <td>2</td>\n",
       "      <td>2</td>\n",
       "      <td>...</td>\n",
       "      <td>2</td>\n",
       "      <td>alfa-romero</td>\n",
       "      <td>hatchback</td>\n",
       "      <td>94.5</td>\n",
       "      <td>171.2</td>\n",
       "      <td>ohcv</td>\n",
       "      <td>six</td>\n",
       "      <td>154</td>\n",
       "      <td>19</td>\n",
       "      <td>16500.0</td>\n",
       "    </tr>\n",
       "    <tr>\n",
       "      <th>3</th>\n",
       "      <td>3</td>\n",
       "      <td>3</td>\n",
       "      <td>3</td>\n",
       "      <td>3</td>\n",
       "      <td>3</td>\n",
       "      <td>3</td>\n",
       "      <td>3</td>\n",
       "      <td>3</td>\n",
       "      <td>3</td>\n",
       "      <td>3</td>\n",
       "      <td>...</td>\n",
       "      <td>3</td>\n",
       "      <td>audi</td>\n",
       "      <td>sedan</td>\n",
       "      <td>99.8</td>\n",
       "      <td>176.6</td>\n",
       "      <td>ohc</td>\n",
       "      <td>four</td>\n",
       "      <td>102</td>\n",
       "      <td>24</td>\n",
       "      <td>13950.0</td>\n",
       "    </tr>\n",
       "    <tr>\n",
       "      <th>4</th>\n",
       "      <td>4</td>\n",
       "      <td>4</td>\n",
       "      <td>4</td>\n",
       "      <td>4</td>\n",
       "      <td>4</td>\n",
       "      <td>4</td>\n",
       "      <td>4</td>\n",
       "      <td>4</td>\n",
       "      <td>4</td>\n",
       "      <td>4</td>\n",
       "      <td>...</td>\n",
       "      <td>4</td>\n",
       "      <td>audi</td>\n",
       "      <td>sedan</td>\n",
       "      <td>99.4</td>\n",
       "      <td>176.6</td>\n",
       "      <td>ohc</td>\n",
       "      <td>five</td>\n",
       "      <td>115</td>\n",
       "      <td>18</td>\n",
       "      <td>17450.0</td>\n",
       "    </tr>\n",
       "    <tr>\n",
       "      <th>...</th>\n",
       "      <td>...</td>\n",
       "      <td>...</td>\n",
       "      <td>...</td>\n",
       "      <td>...</td>\n",
       "      <td>...</td>\n",
       "      <td>...</td>\n",
       "      <td>...</td>\n",
       "      <td>...</td>\n",
       "      <td>...</td>\n",
       "      <td>...</td>\n",
       "      <td>...</td>\n",
       "      <td>...</td>\n",
       "      <td>...</td>\n",
       "      <td>...</td>\n",
       "      <td>...</td>\n",
       "      <td>...</td>\n",
       "      <td>...</td>\n",
       "      <td>...</td>\n",
       "      <td>...</td>\n",
       "      <td>...</td>\n",
       "      <td>...</td>\n",
       "    </tr>\n",
       "    <tr>\n",
       "      <th>56</th>\n",
       "      <td>56</td>\n",
       "      <td>56</td>\n",
       "      <td>56</td>\n",
       "      <td>56</td>\n",
       "      <td>56</td>\n",
       "      <td>56</td>\n",
       "      <td>56</td>\n",
       "      <td>56</td>\n",
       "      <td>56</td>\n",
       "      <td>56</td>\n",
       "      <td>...</td>\n",
       "      <td>81</td>\n",
       "      <td>volkswagen</td>\n",
       "      <td>sedan</td>\n",
       "      <td>97.3</td>\n",
       "      <td>171.7</td>\n",
       "      <td>ohc</td>\n",
       "      <td>four</td>\n",
       "      <td>85</td>\n",
       "      <td>27</td>\n",
       "      <td>7975.0</td>\n",
       "    </tr>\n",
       "    <tr>\n",
       "      <th>57</th>\n",
       "      <td>57</td>\n",
       "      <td>57</td>\n",
       "      <td>57</td>\n",
       "      <td>57</td>\n",
       "      <td>57</td>\n",
       "      <td>57</td>\n",
       "      <td>57</td>\n",
       "      <td>57</td>\n",
       "      <td>57</td>\n",
       "      <td>57</td>\n",
       "      <td>...</td>\n",
       "      <td>82</td>\n",
       "      <td>volkswagen</td>\n",
       "      <td>sedan</td>\n",
       "      <td>97.3</td>\n",
       "      <td>171.7</td>\n",
       "      <td>ohc</td>\n",
       "      <td>four</td>\n",
       "      <td>52</td>\n",
       "      <td>37</td>\n",
       "      <td>7995.0</td>\n",
       "    </tr>\n",
       "    <tr>\n",
       "      <th>58</th>\n",
       "      <td>58</td>\n",
       "      <td>58</td>\n",
       "      <td>58</td>\n",
       "      <td>58</td>\n",
       "      <td>58</td>\n",
       "      <td>58</td>\n",
       "      <td>58</td>\n",
       "      <td>58</td>\n",
       "      <td>58</td>\n",
       "      <td>58</td>\n",
       "      <td>...</td>\n",
       "      <td>86</td>\n",
       "      <td>volkswagen</td>\n",
       "      <td>sedan</td>\n",
       "      <td>97.3</td>\n",
       "      <td>171.7</td>\n",
       "      <td>ohc</td>\n",
       "      <td>four</td>\n",
       "      <td>100</td>\n",
       "      <td>26</td>\n",
       "      <td>9995.0</td>\n",
       "    </tr>\n",
       "    <tr>\n",
       "      <th>59</th>\n",
       "      <td>59</td>\n",
       "      <td>59</td>\n",
       "      <td>59</td>\n",
       "      <td>59</td>\n",
       "      <td>59</td>\n",
       "      <td>59</td>\n",
       "      <td>59</td>\n",
       "      <td>59</td>\n",
       "      <td>59</td>\n",
       "      <td>59</td>\n",
       "      <td>...</td>\n",
       "      <td>87</td>\n",
       "      <td>volvo</td>\n",
       "      <td>sedan</td>\n",
       "      <td>104.3</td>\n",
       "      <td>188.8</td>\n",
       "      <td>ohc</td>\n",
       "      <td>four</td>\n",
       "      <td>114</td>\n",
       "      <td>23</td>\n",
       "      <td>12940.0</td>\n",
       "    </tr>\n",
       "    <tr>\n",
       "      <th>60</th>\n",
       "      <td>60</td>\n",
       "      <td>60</td>\n",
       "      <td>60</td>\n",
       "      <td>60</td>\n",
       "      <td>60</td>\n",
       "      <td>60</td>\n",
       "      <td>60</td>\n",
       "      <td>60</td>\n",
       "      <td>60</td>\n",
       "      <td>60</td>\n",
       "      <td>...</td>\n",
       "      <td>88</td>\n",
       "      <td>volvo</td>\n",
       "      <td>wagon</td>\n",
       "      <td>104.3</td>\n",
       "      <td>188.8</td>\n",
       "      <td>ohc</td>\n",
       "      <td>four</td>\n",
       "      <td>114</td>\n",
       "      <td>23</td>\n",
       "      <td>13415.0</td>\n",
       "    </tr>\n",
       "  </tbody>\n",
       "</table>\n",
       "<p>61 rows × 21 columns</p>\n",
       "</div>"
      ],
      "text/plain": [
       "    Unnamed: 0  Unnamed: 0.1  Unnamed: 0.1.1  Unnamed: 0.1.1.1  \\\n",
       "0            0             0               0                 0   \n",
       "1            1             1               1                 1   \n",
       "2            2             2               2                 2   \n",
       "3            3             3               3                 3   \n",
       "4            4             4               4                 4   \n",
       "..         ...           ...             ...               ...   \n",
       "56          56            56              56                56   \n",
       "57          57            57              57                57   \n",
       "58          58            58              58                58   \n",
       "59          59            59              59                59   \n",
       "60          60            60              60                60   \n",
       "\n",
       "    Unnamed: 0.1.1.1.1  Unnamed: 0.1.1.1.1.1  Unnamed: 0.1.1.1.1.1.1  \\\n",
       "0                    0                     0                       0   \n",
       "1                    1                     1                       1   \n",
       "2                    2                     2                       2   \n",
       "3                    3                     3                       3   \n",
       "4                    4                     4                       4   \n",
       "..                 ...                   ...                     ...   \n",
       "56                  56                    56                      56   \n",
       "57                  57                    57                      57   \n",
       "58                  58                    58                      58   \n",
       "59                  59                    59                      59   \n",
       "60                  60                    60                      60   \n",
       "\n",
       "    Unnamed: 0.1.1.1.1.1.1.1  Unnamed: 0.1.1.1.1.1.1.1.1  \\\n",
       "0                          0                           0   \n",
       "1                          1                           1   \n",
       "2                          2                           2   \n",
       "3                          3                           3   \n",
       "4                          4                           4   \n",
       "..                       ...                         ...   \n",
       "56                        56                          56   \n",
       "57                        57                          57   \n",
       "58                        58                          58   \n",
       "59                        59                          59   \n",
       "60                        60                          60   \n",
       "\n",
       "    Unnamed: 0.1.1.1.1.1.1.1.1.1  ...  index      company   body-style  \\\n",
       "0                              0  ...      0  alfa-romero  convertible   \n",
       "1                              1  ...      1  alfa-romero  convertible   \n",
       "2                              2  ...      2  alfa-romero    hatchback   \n",
       "3                              3  ...      3         audi        sedan   \n",
       "4                              4  ...      4         audi        sedan   \n",
       "..                           ...  ...    ...          ...          ...   \n",
       "56                            56  ...     81   volkswagen        sedan   \n",
       "57                            57  ...     82   volkswagen        sedan   \n",
       "58                            58  ...     86   volkswagen        sedan   \n",
       "59                            59  ...     87        volvo        sedan   \n",
       "60                            60  ...     88        volvo        wagon   \n",
       "\n",
       "   wheel-base  length  engine-type num-of-cylinders horsepower  \\\n",
       "0        88.6   168.8         dohc             four        111   \n",
       "1        88.6   168.8         dohc             four        111   \n",
       "2        94.5   171.2         ohcv              six        154   \n",
       "3        99.8   176.6          ohc             four        102   \n",
       "4        99.4   176.6          ohc             five        115   \n",
       "..        ...     ...          ...              ...        ...   \n",
       "56       97.3   171.7          ohc             four         85   \n",
       "57       97.3   171.7          ohc             four         52   \n",
       "58       97.3   171.7          ohc             four        100   \n",
       "59      104.3   188.8          ohc             four        114   \n",
       "60      104.3   188.8          ohc             four        114   \n",
       "\n",
       "    average-mileage    price  \n",
       "0                21  13495.0  \n",
       "1                21  16500.0  \n",
       "2                19  16500.0  \n",
       "3                24  13950.0  \n",
       "4                18  17450.0  \n",
       "..              ...      ...  \n",
       "56               27   7975.0  \n",
       "57               37   7995.0  \n",
       "58               26   9995.0  \n",
       "59               23  12940.0  \n",
       "60               23  13415.0  \n",
       "\n",
       "[61 rows x 21 columns]"
      ]
     },
     "execution_count": 2,
     "metadata": {},
     "output_type": "execute_result"
    }
   ],
   "source": [
    "#step1\n",
    "\n",
    "import pandas as pd\n",
    "from sklearn.preprocessing import StandardScaler\n",
    "data = pd.read_csv('C:\\\\Users\\\\malfa\\\\Desktop\\\\python program course\\\\Automobile_data.csv')\n",
    "data"
   ]
  },
  {
   "cell_type": "code",
   "execution_count": 3,
   "id": "d3601660",
   "metadata": {},
   "outputs": [
    {
     "data": {
      "text/html": [
       "<div>\n",
       "<style scoped>\n",
       "    .dataframe tbody tr th:only-of-type {\n",
       "        vertical-align: middle;\n",
       "    }\n",
       "\n",
       "    .dataframe tbody tr th {\n",
       "        vertical-align: top;\n",
       "    }\n",
       "\n",
       "    .dataframe thead th {\n",
       "        text-align: right;\n",
       "    }\n",
       "</style>\n",
       "<table border=\"1\" class=\"dataframe\">\n",
       "  <thead>\n",
       "    <tr style=\"text-align: right;\">\n",
       "      <th></th>\n",
       "      <th>feature_1</th>\n",
       "      <th>feature_2</th>\n",
       "      <th>feature_3</th>\n",
       "      <th>feature_4</th>\n",
       "      <th>feature_5</th>\n",
       "      <th>feature_6</th>\n",
       "    </tr>\n",
       "  </thead>\n",
       "  <tbody>\n",
       "    <tr>\n",
       "      <th>0</th>\n",
       "      <td>-9.780</td>\n",
       "      <td>4.98</td>\n",
       "      <td>3.830</td>\n",
       "      <td>-9.27</td>\n",
       "      <td>7.210</td>\n",
       "      <td>-0.459</td>\n",
       "    </tr>\n",
       "    <tr>\n",
       "      <th>1</th>\n",
       "      <td>-2.080</td>\n",
       "      <td>5.18</td>\n",
       "      <td>0.215</td>\n",
       "      <td>-9.76</td>\n",
       "      <td>7.420</td>\n",
       "      <td>-3.320</td>\n",
       "    </tr>\n",
       "    <tr>\n",
       "      <th>2</th>\n",
       "      <td>-0.549</td>\n",
       "      <td>1.39</td>\n",
       "      <td>1.120</td>\n",
       "      <td>-7.46</td>\n",
       "      <td>5.680</td>\n",
       "      <td>-9.120</td>\n",
       "    </tr>\n",
       "    <tr>\n",
       "      <th>3</th>\n",
       "      <td>-6.020</td>\n",
       "      <td>-2.05</td>\n",
       "      <td>2.200</td>\n",
       "      <td>-8.85</td>\n",
       "      <td>7.930</td>\n",
       "      <td>-2.790</td>\n",
       "    </tr>\n",
       "    <tr>\n",
       "      <th>4</th>\n",
       "      <td>-8.960</td>\n",
       "      <td>5.23</td>\n",
       "      <td>1.950</td>\n",
       "      <td>4.09</td>\n",
       "      <td>-0.732</td>\n",
       "      <td>4.390</td>\n",
       "    </tr>\n",
       "  </tbody>\n",
       "</table>\n",
       "</div>"
      ],
      "text/plain": [
       "   feature_1  feature_2  feature_3  feature_4  feature_5  feature_6\n",
       "0     -9.780       4.98      3.830      -9.27      7.210     -0.459\n",
       "1     -2.080       5.18      0.215      -9.76      7.420     -3.320\n",
       "2     -0.549       1.39      1.120      -7.46      5.680     -9.120\n",
       "3     -6.020      -2.05      2.200      -8.85      7.930     -2.790\n",
       "4     -8.960       5.23      1.950       4.09     -0.732      4.390"
      ]
     },
     "execution_count": 3,
     "metadata": {},
     "output_type": "execute_result"
    }
   ],
   "source": [
    "import pandas as pd\n",
    "data = pd.read_csv('C:\\\\Users\\\\malfa\\\\Desktop\\\\python program course\\\\clustering_data.csv')\n",
    "data.head(5)"
   ]
  },
  {
   "cell_type": "code",
   "execution_count": 4,
   "id": "b0285b4e",
   "metadata": {},
   "outputs": [],
   "source": [
    "import pandas as pd\n",
    "from sklearn.preprocessing import StandardScaler\n",
    "\n",
    "y = data.pop(\"feature_1\")\n",
    "\n",
    "scaler = StandardScaler()\n",
    "X = scaler.fit_transform(data)"
   ]
  },
  {
   "cell_type": "code",
   "execution_count": 5,
   "id": "3fa0c0a0",
   "metadata": {},
   "outputs": [
    {
     "name": "stdout",
     "output_type": "stream",
     "text": [
      "Dimensionality of the original dataset = 5\n",
      "Dimensionality of the transformed dataset = 2\n"
     ]
    }
   ],
   "source": [
    "#step2\n",
    "\n",
    "from sklearn.decomposition import PCA\n",
    "pca = PCA(n_components=2)\n",
    "X_PCA = pca.fit_transform(X)\n",
    "print(\"Dimensionality of the original dataset =\", data.shape[1])\n",
    "print(\"Dimensionality of the transformed dataset =\", X_PCA.shape[1])"
   ]
  },
  {
   "cell_type": "code",
   "execution_count": 6,
   "id": "713b3269",
   "metadata": {},
   "outputs": [
    {
     "name": "stdout",
     "output_type": "stream",
     "text": [
      "[0.42703684 0.26285401]\n"
     ]
    }
   ],
   "source": [
    "#step3\n",
    "\n",
    "print(pca.explained_variance_ratio_)"
   ]
  },
  {
   "cell_type": "code",
   "execution_count": 7,
   "id": "433cfbe5",
   "metadata": {},
   "outputs": [],
   "source": [
    "from sklearn.linear_model import LinearRegression"
   ]
  },
  {
   "cell_type": "code",
   "execution_count": 8,
   "id": "5a8f05a7",
   "metadata": {},
   "outputs": [
    {
     "data": {
      "text/plain": [
       "LinearRegression()"
      ]
     },
     "execution_count": 8,
     "metadata": {},
     "output_type": "execute_result"
    }
   ],
   "source": [
    "lr_model = LinearRegression()\n",
    "lr_model.fit(X, y)"
   ]
  },
  {
   "cell_type": "code",
   "execution_count": 9,
   "id": "23c39307",
   "metadata": {},
   "outputs": [
    {
     "name": "stderr",
     "output_type": "stream",
     "text": [
      "No handles with labels found to put in legend.\n"
     ]
    },
    {
     "data": {
      "image/png": "[encoded data removed]",
      "text/plain": [
       "<Figure size 432x288 with 1 Axes>"
      ]
     },
     "metadata": {
      "needs_background": "light"
     },
     "output_type": "display_data"
    }
   ],
   "source": [
    "#step4\n",
    "\n",
    "import matplotlib.pyplot as plt\n",
    "\n",
    "fig, ax = plt.subplots()\n",
    "ax.scatter(X_PCA[y==0, 0], X_PCA[y==0, 1], marker='.', linewidth=2)\n",
    "ax.scatter(X_PCA[y==1, 0], X_PCA[y==1, 1], marker='.', linewidth=2)\n",
    "ax.set_xlabel('PC1', fontsize=12)\n",
    "ax.set_ylabel('PC2', fontsize=12)\n",
    "ax.legend(fontsize=12)\n",
    "\n",
    "plt.show()"
   ]
  },
  {
   "cell_type": "code",
   "execution_count": 10,
   "id": "96e7068b",
   "metadata": {},
   "outputs": [
    {
     "data": {
      "image/png": "[encoded data removed]",
      "text/plain": [
       "<Figure size 432x288 with 1 Axes>"
      ]
     },
     "metadata": {
      "needs_background": "light"
     },
     "output_type": "display_data"
    }
   ],
   "source": [
    "import matplotlib.pyplot as plt\n",
    "\n",
    "data = data.values  # Convert DataFrame to Numpy array\n",
    "\n",
    "plt.figure()\n",
    "plt.scatter(data[:,0], data[:,1], marker='.', linewidth=2)\n",
    "plt.xlabel('feature_1', fontsize=12)\n",
    "plt.ylabel('feature_2', fontsize=12)\n",
    "plt.show()"
   ]
  },
  {
   "cell_type": "code",
   "execution_count": 11,
   "id": "bfc68b58",
   "metadata": {},
   "outputs": [],
   "source": [
    "#step5\n",
    "#Before running the clustering algorithm, give two suggestions for the number of clusters?\n",
    "# The number of clusters are 2\n",
    "#1.cluster 0, cluster 1\n",
    "#2.cluster 0, cluster 1, cluster 2"
   ]
  },
  {
   "cell_type": "code",
   "execution_count": 12,
   "id": "c108a670",
   "metadata": {},
   "outputs": [],
   "source": [
    "#step6\n",
    "from sklearn.cluster import KMeans\n",
    "\n",
    "kmeans = KMeans(init='random', n_clusters=2, n_init=10)"
   ]
  },
  {
   "cell_type": "code",
   "execution_count": 13,
   "id": "46e41aae",
   "metadata": {},
   "outputs": [
    {
     "data": {
      "text/plain": [
       "KMeans(init='random', n_clusters=2)"
      ]
     },
     "execution_count": 13,
     "metadata": {},
     "output_type": "execute_result"
    }
   ],
   "source": [
    "kmeans.fit(data)"
   ]
  },
  {
   "cell_type": "code",
   "execution_count": 14,
   "id": "698f4902",
   "metadata": {},
   "outputs": [
    {
     "name": "stdout",
     "output_type": "stream",
     "text": [
      "50507.85053321816\n",
      "[[ 8.58982971  0.24528152  0.17610141  2.36271703  2.72894149]\n",
      " [ 1.04704527  1.68309271 -8.41369656  5.40651185 -4.75829431]]\n",
      "5\n"
     ]
    }
   ],
   "source": [
    "# The lowest SSE value\n",
    "print(kmeans.inertia_)\n",
    "\n",
    "# Final locations of the centroid\n",
    "print(kmeans.cluster_centers_)\n",
    "\n",
    "# The number of iterations required to converge\n",
    "print(kmeans.n_iter_)"
   ]
  },
  {
   "cell_type": "code",
   "execution_count": 15,
   "id": "2945d3b3",
   "metadata": {},
   "outputs": [
    {
     "data": {
      "text/plain": [
       "array([1, 1, 1, 1, 0])"
      ]
     },
     "execution_count": 15,
     "metadata": {},
     "output_type": "execute_result"
    }
   ],
   "source": [
    "kmeans.labels_[:5]"
   ]
  },
  {
   "cell_type": "code",
   "execution_count": 16,
   "id": "76e5d752",
   "metadata": {},
   "outputs": [
    {
     "data": {
      "image/png": "[encoded data removed]",
      "text/plain": [
       "<Figure size 432x288 with 1 Axes>"
      ]
     },
     "metadata": {
      "needs_background": "light"
     },
     "output_type": "display_data"
    }
   ],
   "source": [
    "#step7\n",
    "\n",
    "labels = kmeans.labels_\n",
    "u = kmeans.cluster_centers_\n",
    "\n",
    "plt.figure()\n",
    "plt.scatter(data[labels==0,0], data[labels==0,1], marker='.', linewidth=2, label='Cluster 0')\n",
    "plt.scatter(data[labels==1,0], data[labels==1,1], marker='.', linewidth=2, label='Cluster 1')\n",
    "plt.scatter(u[:,0], u[:,1], marker='*', linewidth=3, color='black', label='Centroids')\n",
    "plt.xlabel('feature_1', fontsize=12)\n",
    "plt.ylabel('feature_2', fontsize=12)\n",
    "plt.legend(fontsize=12)\n",
    "plt.show()"
   ]
  },
  {
   "cell_type": "code",
   "execution_count": 17,
   "id": "6b64f0e1",
   "metadata": {},
   "outputs": [
    {
     "data": {
      "image/png": "[encoded data removed]",
      "text/plain": [
       "<Figure size 432x288 with 1 Axes>"
      ]
     },
     "metadata": {
      "needs_background": "light"
     },
     "output_type": "display_data"
    }
   ],
   "source": [
    "kmeans = KMeans(init='random', n_clusters=3, n_init=10)\n",
    "kmeans.fit(data)\n",
    "\n",
    "labels = kmeans.labels_\n",
    "u = kmeans.cluster_centers_\n",
    "\n",
    "plt.figure()\n",
    "plt.scatter(data[labels==0,0], data[labels==0,1], marker='.', linewidth=2, label='Cluster 0')\n",
    "plt.scatter(data[labels==1,0], data[labels==1,1], marker='.', linewidth=2, label='Cluster 1')\n",
    "plt.scatter(data[labels==2,0], data[labels==2,1], marker='.', linewidth=2, label='Cluster 2')\n",
    "plt.scatter(u[:,0], u[:,1], marker='*', linewidth=3, color='black', label='Centroids')\n",
    "plt.xlabel('feature_1', fontsize=12)\n",
    "plt.ylabel('feature_2', fontsize=12)\n",
    "plt.legend(fontsize=12)\n",
    "plt.show()"
   ]
  }
 ],
 "metadata": {
  "kernelspec": {
   "display_name": "Python 3 (ipykernel)",
   "language": "python",
   "name": "python3"
  },
  "language_info": {
   "codemirror_mode": {
    "name": "ipython",
    "version": 3
   },
   "file_extension": ".py",
   "mimetype": "text/x-python",
   "name": "python",
   "nbconvert_exporter": "python",
   "pygments_lexer": "ipython3",
   "version": "3.9.7"
  }
 },
 "nbformat": 4,
 "nbformat_minor": 5
}
