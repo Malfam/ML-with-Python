{
 "cells": [
  {
   "cell_type": "code",
   "execution_count": 1,
   "id": "fb5a28b5",
   "metadata": {},
   "outputs": [],
   "source": [
    "#Write a Python script according to the following steps:\n",
    "#Step 1-3: Exactly like Steps 1, 2, and 3 of \"Exercise 3\" of this chapter.\n",
    "#Step 4. Train a decision tree classifier on the training set.\n",
    "#Step 5. Evaluate the classifier by computing training set accuracy, testing set accuracy, precision, recall, and F1-score.\n",
    "#Step 6. Compute and display the confusion matrix for the testing set.\n",
    "#Step 7. Compare the performance of the decision tree classifier to the K-NN classifier you implemented for \"Exercise 3\"."
   ]
  },
  {
   "cell_type": "code",
   "execution_count": 2,
   "id": "1f9df532",
   "metadata": {},
   "outputs": [],
   "source": [
    "#step1\n",
    "\n",
    "import sklearn\n",
    "import numpy as np"
   ]
  },
  {
   "cell_type": "code",
   "execution_count": 3,
   "id": "a70f4cf4",
   "metadata": {},
   "outputs": [],
   "source": [
    "from sklearn.datasets import load_wine\n",
    "X, y = load_wine(return_X_y=True)"
   ]
  },
  {
   "cell_type": "code",
   "execution_count": 4,
   "id": "18644fb8",
   "metadata": {},
   "outputs": [
    {
     "name": "stdout",
     "output_type": "stream",
     "text": [
      "[0 0 0 0 0 0 0 0 0 0 0 0 0 0 0 0 0 0 0 0 0 0 0 0 0 0 0 0 0 0 0 0 0 0 0 0 0\n",
      " 0 0 0 0 0 0 0 0 0 0 0 0 0 0 0 0 0 0 0 0 0 0 1 1 1 1 1 1 1 1 1 1 1 1 1 1 1\n",
      " 1 1 1 1 1 1 1 1 1 1 1 1 1 1 1 1 1 1 1 1 1 1 1 1 1 1 1 1 1 1 1 1 1 1 1 1 1\n",
      " 1 1 1 1 1 1 1 1 1 1 1 1 1 1 1 1 1 1 1 2 2 2 2 2 2 2 2 2 2 2 2 2 2 2 2 2 2\n",
      " 2 2 2 2 2 2 2 2 2 2 2 2 2 2 2 2 2 2 2 2 2 2 2 2 2 2 2 2 2 2]\n"
     ]
    }
   ],
   "source": [
    "print(y)"
   ]
  },
  {
   "cell_type": "code",
   "execution_count": 5,
   "id": "9c3a23ea",
   "metadata": {},
   "outputs": [],
   "source": [
    "#step2\n",
    "\n",
    "from sklearn.model_selection import train_test_split\n",
    "X_train, X_test, y_train, y_test = train_test_split(\n",
    "X, y, test_size=0.25, stratify=y)"
   ]
  },
  {
   "cell_type": "code",
   "execution_count": 6,
   "id": "f8085487",
   "metadata": {},
   "outputs": [
    {
     "data": {
      "text/plain": [
       "<matplotlib.collections.PathCollection at 0x2c3d1bcb700>"
      ]
     },
     "execution_count": 6,
     "metadata": {},
     "output_type": "execute_result"
    },
    {
     "data": {
      "image/png": "[encoded data removed]",
      "text/plain": [
       "<Figure size 432x288 with 1 Axes>"
      ]
     },
     "metadata": {
      "needs_background": "light"
     },
     "output_type": "display_data"
    }
   ],
   "source": [
    "#step3\n",
    "\n",
    "import matplotlib.pyplot as plt\n",
    "plt.scatter(X[y==0,0],X[y==0,1],c='red')\n",
    "plt.scatter(X[y==1,0],X[y==1,1],c='green')\n",
    "plt.scatter(X[y==1,0],X[y==1,1],c='orange')"
   ]
  },
  {
   "cell_type": "code",
   "execution_count": 7,
   "id": "613e8a0a",
   "metadata": {},
   "outputs": [],
   "source": [
    "#step4\n",
    "\n",
    "from sklearn.tree import DecisionTreeClassifier"
   ]
  },
  {
   "cell_type": "code",
   "execution_count": 8,
   "id": "4db52a5b",
   "metadata": {},
   "outputs": [
    {
     "data": {
      "text/plain": [
       "DecisionTreeClassifier()"
      ]
     },
     "execution_count": 8,
     "metadata": {},
     "output_type": "execute_result"
    }
   ],
   "source": [
    "dtree = DecisionTreeClassifier()\n",
    "dtree.fit(X_train, y_train)"
   ]
  },
  {
   "cell_type": "code",
   "execution_count": 9,
   "id": "474cb2b1",
   "metadata": {},
   "outputs": [
    {
     "name": "stdout",
     "output_type": "stream",
     "text": [
      "Training accuracy of the decision tree classifier = 1.0000\n",
      "Test accuracy of the decision tree classifier = 0.8667\n",
      "Precision = 0.8795, Recall = 0.8667, and F1 Score = 0.8650\n"
     ]
    }
   ],
   "source": [
    "#step5\n",
    "\n",
    "training_acc = dtree.score(X_train, y_train)\n",
    "print(\"Training accuracy of the decision tree classifier = {:.4f}\".format(training_acc))\n",
    "\n",
    "test_acc = dtree.score(X_test, y_test)\n",
    "print(\"Test accuracy of the decision tree classifier = {:.4f}\".format(test_acc))\n",
    "\n",
    "from sklearn.metrics import precision_recall_fscore_support as prf\n",
    "\n",
    "precision, recall, fscore, _ = prf(y_test, dtree.predict(X_test), average='weighted')\n",
    "print(\"Precision = {:.4f}, Recall = {:.4f}, and F1 Score = {:.4f}\".format(precision, recall, fscore))"
   ]
  },
  {
   "cell_type": "code",
   "execution_count": 10,
   "id": "5b6ad33d",
   "metadata": {},
   "outputs": [
    {
     "data": {
      "text/plain": [
       "<Figure size 432x288 with 0 Axes>"
      ]
     },
     "metadata": {},
     "output_type": "display_data"
    },
    {
     "data": {
      "image/png": "[encoded data removed]",
      "text/plain": [
       "<Figure size 432x288 with 2 Axes>"
      ]
     },
     "metadata": {
      "needs_background": "light"
     },
     "output_type": "display_data"
    }
   ],
   "source": [
    "#step6\n",
    "\n",
    "from sklearn.metrics import plot_confusion_matrix\n",
    "\n",
    "plt.figure()\n",
    "plot_confusion_matrix(dtree, X_test, y_test, cmap=plt.cm.Blues)\n",
    "plt.title('Confusion matrix for decision tree classifier')\n",
    "plt.show()"
   ]
  },
  {
   "cell_type": "code",
   "execution_count": 11,
   "id": "fa16f467",
   "metadata": {},
   "outputs": [],
   "source": [
    "#step7\n",
    "\n",
    "#Compare the performance of the decision tree classifier to the K-NN classifier you implemented for \"Exercise 3\"?\n",
    "\n",
    "#decision tree classifier:\n",
    "#Training accuracy of the decision tree classifier = 1.0000\n",
    "#Test accuracy of the decision tree classifier = 0.9556\n",
    "\n",
    "#K-NN classifier:\n",
    "#Training accuracy of K-NN classifier (K=3) = 0.7744\n",
    "#Test accuracy of K-NN classifier (K=3) = 0.6889\n",
    "\n",
    "#The accuracy of the decision tree classifier is 100% which is very good. "
   ]
  }
 ],
 "metadata": {
  "kernelspec": {
   "display_name": "Python 3 (ipykernel)",
   "language": "python",
   "name": "python3"
  },
  "language_info": {
   "codemirror_mode": {
    "name": "ipython",
    "version": 3
   },
   "file_extension": ".py",
   "mimetype": "text/x-python",
   "name": "python",
   "nbconvert_exporter": "python",
   "pygments_lexer": "ipython3",
   "version": "3.9.7"
  }
 },
 "nbformat": 4,
 "nbformat_minor": 5
}
