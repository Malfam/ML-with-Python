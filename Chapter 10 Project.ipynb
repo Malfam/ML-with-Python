{
 "cells": [
  {
   "cell_type": "code",
   "execution_count": 2,
   "id": "6da37983",
   "metadata": {},
   "outputs": [],
   "source": [
    "#For the final project of the course, we are going to cover an interesting problem: \"\n",
    "#Toyota Corolla Price Prediction\". We want to build a machine learning model that takes some specifications of a Toyota Corolla car as input and predicts its price as the output. So, prepare your Jupyter Notebook and follow these steps to complete the task:\n",
    "#1. Download the following .csv file and save it in your Notebook's directory. Then, load it into the workspace as data, and display its first 6 rows.\n",
    "#   Toyota_Corolla.csv\n",
    "#This data contains 21 features and 1436 rows. You can find features descriptions in the following PDF file:\n",
    "#    Features Description.pdf\n",
    "#As we explained above, the target field is the 'Price' column.\n",
    "#2. Count and print the following statistics:\n",
    "#Number of data samples\n",
    "#Number of features\n",
    "#Number of missing values for each feature\n",
    "#Frequency of different number of doors (2, 3, 4, and 5)\n",
    "#Frequency of different fuel types (Petrol, Diesel, CNG)\n",
    "#3. Compute and print the following values:\n",
    "#The mean of price in each fuel type class? which class is more expensive?\n",
    "#The mean of price in class ABS=0 and in class ABS=1.\n",
    "#The mean of price in class Met_Color=0 and in class Met_Color=1.\n",
    "#The mean of price in two-door, three-door,.... cars. \n",
    "#Hint: use .groupby() .\n",
    "#4. Display the following plots:\n",
    "#Scatter plot between 'KM' and 'Price'.\n",
    "#Scatter plot between 'cc' and 'Price'.\n",
    "#Distribution plot of continuous variables.\n",
    "#Boxplot of continuous variables.\n",
    "#Hint: continuous_variables = [\"Age\", \"KM\", \"HP\", \"cc\",\"Doors\",\"Guarantee_Period\"].\n",
    "#5. Using the Boxplot you created in the previous question, you detected features with outliers. Remove the outlier values from the dataframe.\n",
    "#6. Since The 'Fuel_Type' variable is categorical, you need to convert it to numeric values. (Hint: Create three dummy variables and then drop the 'Fuel_Type' column.\n",
    "#7. Once again display the first 10 rows of data after you applied this conversion to make sure they have been applied correctly.\n",
    "#8. Store the \"Price\" column of data in the variable y, and other columns in variable X.\n",
    "#9. Use the train_test_split function to split X and y into a training set (X_train, y_train) with 75% of data, and a test set (X_test, y_test) with the remaining 25%.\n",
    "#10. Print the shape of X_train, X_test, y_train, y_test.\n",
    "#11. Train the Linear regression algorithm on X_train and y_train. Note that you should put normalize= True.\n",
    "#12. Use the attribute .score to check the accuracy of the model on train and test data.\n",
    "#13. Put y_hat_test = model.predict(X_test) and then plot the scatter plot between y_hat_test and y_test.\n",
    "#14. Print the r2_score and mean_squared_error of the model.\n",
    "#15. Fit RandomForestRegressor algorithm on the trained data and then repeat steps 12-14 for this algorithm too. (Note that since this algorithm does not have a normalized or max_min scaler parameter, you should scale data before feeding it to the algorithm).\n",
    "#16. Apply another suitable algorithm on the train and test data and evaluate it. "
   ]
  },
  {
   "cell_type": "code",
   "execution_count": 3,
   "id": "71159546",
   "metadata": {},
   "outputs": [
    {
     "data": {
      "text/html": [
       "<div>\n",
       "<style scoped>\n",
       "    .dataframe tbody tr th:only-of-type {\n",
       "        vertical-align: middle;\n",
       "    }\n",
       "\n",
       "    .dataframe tbody tr th {\n",
       "        vertical-align: top;\n",
       "    }\n",
       "\n",
       "    .dataframe thead th {\n",
       "        text-align: right;\n",
       "    }\n",
       "</style>\n",
       "<table border=\"1\" class=\"dataframe\">\n",
       "  <thead>\n",
       "    <tr style=\"text-align: right;\">\n",
       "      <th></th>\n",
       "      <th>Price</th>\n",
       "      <th>Age</th>\n",
       "      <th>KM</th>\n",
       "      <th>Fuel_Type</th>\n",
       "      <th>HP</th>\n",
       "      <th>Met_Color</th>\n",
       "      <th>Automatic</th>\n",
       "      <th>cc</th>\n",
       "      <th>Doors</th>\n",
       "      <th>Mfr_Guarantee</th>\n",
       "      <th>...</th>\n",
       "      <th>ABS</th>\n",
       "      <th>Airco</th>\n",
       "      <th>Automatic_airco</th>\n",
       "      <th>Boardcomputer</th>\n",
       "      <th>CD_Player</th>\n",
       "      <th>Central_Lock</th>\n",
       "      <th>Powered_Windows</th>\n",
       "      <th>Power_Steering</th>\n",
       "      <th>Mistlamps</th>\n",
       "      <th>Sport_Model</th>\n",
       "    </tr>\n",
       "  </thead>\n",
       "  <tbody>\n",
       "    <tr>\n",
       "      <th>0</th>\n",
       "      <td>13500</td>\n",
       "      <td>23</td>\n",
       "      <td>46986</td>\n",
       "      <td>Diesel</td>\n",
       "      <td>90</td>\n",
       "      <td>1</td>\n",
       "      <td>0</td>\n",
       "      <td>2000</td>\n",
       "      <td>3</td>\n",
       "      <td>0</td>\n",
       "      <td>...</td>\n",
       "      <td>1</td>\n",
       "      <td>0</td>\n",
       "      <td>0</td>\n",
       "      <td>1</td>\n",
       "      <td>0</td>\n",
       "      <td>1</td>\n",
       "      <td>1</td>\n",
       "      <td>1</td>\n",
       "      <td>0</td>\n",
       "      <td>0</td>\n",
       "    </tr>\n",
       "    <tr>\n",
       "      <th>1</th>\n",
       "      <td>13750</td>\n",
       "      <td>23</td>\n",
       "      <td>72937</td>\n",
       "      <td>Diesel</td>\n",
       "      <td>90</td>\n",
       "      <td>1</td>\n",
       "      <td>0</td>\n",
       "      <td>2000</td>\n",
       "      <td>3</td>\n",
       "      <td>0</td>\n",
       "      <td>...</td>\n",
       "      <td>1</td>\n",
       "      <td>1</td>\n",
       "      <td>0</td>\n",
       "      <td>1</td>\n",
       "      <td>1</td>\n",
       "      <td>1</td>\n",
       "      <td>0</td>\n",
       "      <td>1</td>\n",
       "      <td>0</td>\n",
       "      <td>0</td>\n",
       "    </tr>\n",
       "    <tr>\n",
       "      <th>2</th>\n",
       "      <td>13950</td>\n",
       "      <td>24</td>\n",
       "      <td>41711</td>\n",
       "      <td>Diesel</td>\n",
       "      <td>90</td>\n",
       "      <td>1</td>\n",
       "      <td>0</td>\n",
       "      <td>2000</td>\n",
       "      <td>3</td>\n",
       "      <td>1</td>\n",
       "      <td>...</td>\n",
       "      <td>1</td>\n",
       "      <td>0</td>\n",
       "      <td>0</td>\n",
       "      <td>1</td>\n",
       "      <td>0</td>\n",
       "      <td>0</td>\n",
       "      <td>0</td>\n",
       "      <td>1</td>\n",
       "      <td>0</td>\n",
       "      <td>0</td>\n",
       "    </tr>\n",
       "    <tr>\n",
       "      <th>3</th>\n",
       "      <td>14950</td>\n",
       "      <td>26</td>\n",
       "      <td>48000</td>\n",
       "      <td>Diesel</td>\n",
       "      <td>90</td>\n",
       "      <td>0</td>\n",
       "      <td>0</td>\n",
       "      <td>2000</td>\n",
       "      <td>3</td>\n",
       "      <td>1</td>\n",
       "      <td>...</td>\n",
       "      <td>1</td>\n",
       "      <td>0</td>\n",
       "      <td>0</td>\n",
       "      <td>1</td>\n",
       "      <td>0</td>\n",
       "      <td>0</td>\n",
       "      <td>0</td>\n",
       "      <td>1</td>\n",
       "      <td>0</td>\n",
       "      <td>0</td>\n",
       "    </tr>\n",
       "    <tr>\n",
       "      <th>4</th>\n",
       "      <td>13750</td>\n",
       "      <td>30</td>\n",
       "      <td>38500</td>\n",
       "      <td>Diesel</td>\n",
       "      <td>90</td>\n",
       "      <td>0</td>\n",
       "      <td>0</td>\n",
       "      <td>2000</td>\n",
       "      <td>3</td>\n",
       "      <td>1</td>\n",
       "      <td>...</td>\n",
       "      <td>1</td>\n",
       "      <td>1</td>\n",
       "      <td>0</td>\n",
       "      <td>1</td>\n",
       "      <td>0</td>\n",
       "      <td>1</td>\n",
       "      <td>1</td>\n",
       "      <td>1</td>\n",
       "      <td>1</td>\n",
       "      <td>0</td>\n",
       "    </tr>\n",
       "    <tr>\n",
       "      <th>...</th>\n",
       "      <td>...</td>\n",
       "      <td>...</td>\n",
       "      <td>...</td>\n",
       "      <td>...</td>\n",
       "      <td>...</td>\n",
       "      <td>...</td>\n",
       "      <td>...</td>\n",
       "      <td>...</td>\n",
       "      <td>...</td>\n",
       "      <td>...</td>\n",
       "      <td>...</td>\n",
       "      <td>...</td>\n",
       "      <td>...</td>\n",
       "      <td>...</td>\n",
       "      <td>...</td>\n",
       "      <td>...</td>\n",
       "      <td>...</td>\n",
       "      <td>...</td>\n",
       "      <td>...</td>\n",
       "      <td>...</td>\n",
       "      <td>...</td>\n",
       "    </tr>\n",
       "    <tr>\n",
       "      <th>1431</th>\n",
       "      <td>7500</td>\n",
       "      <td>69</td>\n",
       "      <td>20544</td>\n",
       "      <td>Petrol</td>\n",
       "      <td>86</td>\n",
       "      <td>1</td>\n",
       "      <td>0</td>\n",
       "      <td>1300</td>\n",
       "      <td>3</td>\n",
       "      <td>1</td>\n",
       "      <td>...</td>\n",
       "      <td>1</td>\n",
       "      <td>1</td>\n",
       "      <td>0</td>\n",
       "      <td>0</td>\n",
       "      <td>0</td>\n",
       "      <td>1</td>\n",
       "      <td>1</td>\n",
       "      <td>1</td>\n",
       "      <td>1</td>\n",
       "      <td>1</td>\n",
       "    </tr>\n",
       "    <tr>\n",
       "      <th>1432</th>\n",
       "      <td>10845</td>\n",
       "      <td>72</td>\n",
       "      <td>19000</td>\n",
       "      <td>Petrol</td>\n",
       "      <td>86</td>\n",
       "      <td>0</td>\n",
       "      <td>0</td>\n",
       "      <td>1300</td>\n",
       "      <td>3</td>\n",
       "      <td>0</td>\n",
       "      <td>...</td>\n",
       "      <td>1</td>\n",
       "      <td>0</td>\n",
       "      <td>0</td>\n",
       "      <td>0</td>\n",
       "      <td>0</td>\n",
       "      <td>0</td>\n",
       "      <td>0</td>\n",
       "      <td>1</td>\n",
       "      <td>0</td>\n",
       "      <td>1</td>\n",
       "    </tr>\n",
       "    <tr>\n",
       "      <th>1433</th>\n",
       "      <td>8500</td>\n",
       "      <td>71</td>\n",
       "      <td>17016</td>\n",
       "      <td>Petrol</td>\n",
       "      <td>86</td>\n",
       "      <td>0</td>\n",
       "      <td>0</td>\n",
       "      <td>1300</td>\n",
       "      <td>3</td>\n",
       "      <td>0</td>\n",
       "      <td>...</td>\n",
       "      <td>0</td>\n",
       "      <td>0</td>\n",
       "      <td>0</td>\n",
       "      <td>0</td>\n",
       "      <td>0</td>\n",
       "      <td>0</td>\n",
       "      <td>0</td>\n",
       "      <td>1</td>\n",
       "      <td>0</td>\n",
       "      <td>0</td>\n",
       "    </tr>\n",
       "    <tr>\n",
       "      <th>1434</th>\n",
       "      <td>7250</td>\n",
       "      <td>70</td>\n",
       "      <td>16916</td>\n",
       "      <td>Petrol</td>\n",
       "      <td>86</td>\n",
       "      <td>1</td>\n",
       "      <td>0</td>\n",
       "      <td>1300</td>\n",
       "      <td>3</td>\n",
       "      <td>1</td>\n",
       "      <td>...</td>\n",
       "      <td>0</td>\n",
       "      <td>0</td>\n",
       "      <td>0</td>\n",
       "      <td>0</td>\n",
       "      <td>0</td>\n",
       "      <td>0</td>\n",
       "      <td>0</td>\n",
       "      <td>0</td>\n",
       "      <td>0</td>\n",
       "      <td>0</td>\n",
       "    </tr>\n",
       "    <tr>\n",
       "      <th>1435</th>\n",
       "      <td>6950</td>\n",
       "      <td>76</td>\n",
       "      <td>1</td>\n",
       "      <td>Petrol</td>\n",
       "      <td>110</td>\n",
       "      <td>0</td>\n",
       "      <td>0</td>\n",
       "      <td>1600</td>\n",
       "      <td>5</td>\n",
       "      <td>0</td>\n",
       "      <td>...</td>\n",
       "      <td>0</td>\n",
       "      <td>0</td>\n",
       "      <td>0</td>\n",
       "      <td>0</td>\n",
       "      <td>0</td>\n",
       "      <td>0</td>\n",
       "      <td>0</td>\n",
       "      <td>1</td>\n",
       "      <td>0</td>\n",
       "      <td>0</td>\n",
       "    </tr>\n",
       "  </tbody>\n",
       "</table>\n",
       "<p>1436 rows × 21 columns</p>\n",
       "</div>"
      ],
      "text/plain": [
       "      Price  Age     KM Fuel_Type   HP  Met_Color  Automatic    cc  Doors  \\\n",
       "0     13500   23  46986    Diesel   90          1          0  2000      3   \n",
       "1     13750   23  72937    Diesel   90          1          0  2000      3   \n",
       "2     13950   24  41711    Diesel   90          1          0  2000      3   \n",
       "3     14950   26  48000    Diesel   90          0          0  2000      3   \n",
       "4     13750   30  38500    Diesel   90          0          0  2000      3   \n",
       "...     ...  ...    ...       ...  ...        ...        ...   ...    ...   \n",
       "1431   7500   69  20544    Petrol   86          1          0  1300      3   \n",
       "1432  10845   72  19000    Petrol   86          0          0  1300      3   \n",
       "1433   8500   71  17016    Petrol   86          0          0  1300      3   \n",
       "1434   7250   70  16916    Petrol   86          1          0  1300      3   \n",
       "1435   6950   76      1    Petrol  110          0          0  1600      5   \n",
       "\n",
       "      Mfr_Guarantee  ...  ABS  Airco  Automatic_airco  Boardcomputer  \\\n",
       "0                 0  ...    1      0                0              1   \n",
       "1                 0  ...    1      1                0              1   \n",
       "2                 1  ...    1      0                0              1   \n",
       "3                 1  ...    1      0                0              1   \n",
       "4                 1  ...    1      1                0              1   \n",
       "...             ...  ...  ...    ...              ...            ...   \n",
       "1431              1  ...    1      1                0              0   \n",
       "1432              0  ...    1      0                0              0   \n",
       "1433              0  ...    0      0                0              0   \n",
       "1434              1  ...    0      0                0              0   \n",
       "1435              0  ...    0      0                0              0   \n",
       "\n",
       "      CD_Player  Central_Lock  Powered_Windows  Power_Steering  Mistlamps  \\\n",
       "0             0             1                1               1          0   \n",
       "1             1             1                0               1          0   \n",
       "2             0             0                0               1          0   \n",
       "3             0             0                0               1          0   \n",
       "4             0             1                1               1          1   \n",
       "...         ...           ...              ...             ...        ...   \n",
       "1431          0             1                1               1          1   \n",
       "1432          0             0                0               1          0   \n",
       "1433          0             0                0               1          0   \n",
       "1434          0             0                0               0          0   \n",
       "1435          0             0                0               1          0   \n",
       "\n",
       "      Sport_Model  \n",
       "0               0  \n",
       "1               0  \n",
       "2               0  \n",
       "3               0  \n",
       "4               0  \n",
       "...           ...  \n",
       "1431            1  \n",
       "1432            1  \n",
       "1433            0  \n",
       "1434            0  \n",
       "1435            0  \n",
       "\n",
       "[1436 rows x 21 columns]"
      ]
     },
     "execution_count": 3,
     "metadata": {},
     "output_type": "execute_result"
    }
   ],
   "source": [
    "#step1\n",
    "import pandas as pd\n",
    "data = pd.read_csv('C:\\\\Users\\\\malfa\\\\Desktop\\\\python program course\\\\Toyota_Corolla.csv')\n",
    "data"
   ]
  },
  {
   "cell_type": "code",
   "execution_count": 4,
   "id": "6924d302",
   "metadata": {},
   "outputs": [
    {
     "data": {
      "text/html": [
       "<div>\n",
       "<style scoped>\n",
       "    .dataframe tbody tr th:only-of-type {\n",
       "        vertical-align: middle;\n",
       "    }\n",
       "\n",
       "    .dataframe tbody tr th {\n",
       "        vertical-align: top;\n",
       "    }\n",
       "\n",
       "    .dataframe thead th {\n",
       "        text-align: right;\n",
       "    }\n",
       "</style>\n",
       "<table border=\"1\" class=\"dataframe\">\n",
       "  <thead>\n",
       "    <tr style=\"text-align: right;\">\n",
       "      <th></th>\n",
       "      <th>Price</th>\n",
       "      <th>Age</th>\n",
       "      <th>KM</th>\n",
       "      <th>Fuel_Type</th>\n",
       "      <th>HP</th>\n",
       "      <th>Met_Color</th>\n",
       "      <th>Automatic</th>\n",
       "      <th>cc</th>\n",
       "      <th>Doors</th>\n",
       "      <th>Mfr_Guarantee</th>\n",
       "      <th>...</th>\n",
       "      <th>ABS</th>\n",
       "      <th>Airco</th>\n",
       "      <th>Automatic_airco</th>\n",
       "      <th>Boardcomputer</th>\n",
       "      <th>CD_Player</th>\n",
       "      <th>Central_Lock</th>\n",
       "      <th>Powered_Windows</th>\n",
       "      <th>Power_Steering</th>\n",
       "      <th>Mistlamps</th>\n",
       "      <th>Sport_Model</th>\n",
       "    </tr>\n",
       "  </thead>\n",
       "  <tbody>\n",
       "    <tr>\n",
       "      <th>0</th>\n",
       "      <td>13500</td>\n",
       "      <td>23</td>\n",
       "      <td>46986</td>\n",
       "      <td>Diesel</td>\n",
       "      <td>90</td>\n",
       "      <td>1</td>\n",
       "      <td>0</td>\n",
       "      <td>2000</td>\n",
       "      <td>3</td>\n",
       "      <td>0</td>\n",
       "      <td>...</td>\n",
       "      <td>1</td>\n",
       "      <td>0</td>\n",
       "      <td>0</td>\n",
       "      <td>1</td>\n",
       "      <td>0</td>\n",
       "      <td>1</td>\n",
       "      <td>1</td>\n",
       "      <td>1</td>\n",
       "      <td>0</td>\n",
       "      <td>0</td>\n",
       "    </tr>\n",
       "    <tr>\n",
       "      <th>1</th>\n",
       "      <td>13750</td>\n",
       "      <td>23</td>\n",
       "      <td>72937</td>\n",
       "      <td>Diesel</td>\n",
       "      <td>90</td>\n",
       "      <td>1</td>\n",
       "      <td>0</td>\n",
       "      <td>2000</td>\n",
       "      <td>3</td>\n",
       "      <td>0</td>\n",
       "      <td>...</td>\n",
       "      <td>1</td>\n",
       "      <td>1</td>\n",
       "      <td>0</td>\n",
       "      <td>1</td>\n",
       "      <td>1</td>\n",
       "      <td>1</td>\n",
       "      <td>0</td>\n",
       "      <td>1</td>\n",
       "      <td>0</td>\n",
       "      <td>0</td>\n",
       "    </tr>\n",
       "    <tr>\n",
       "      <th>2</th>\n",
       "      <td>13950</td>\n",
       "      <td>24</td>\n",
       "      <td>41711</td>\n",
       "      <td>Diesel</td>\n",
       "      <td>90</td>\n",
       "      <td>1</td>\n",
       "      <td>0</td>\n",
       "      <td>2000</td>\n",
       "      <td>3</td>\n",
       "      <td>1</td>\n",
       "      <td>...</td>\n",
       "      <td>1</td>\n",
       "      <td>0</td>\n",
       "      <td>0</td>\n",
       "      <td>1</td>\n",
       "      <td>0</td>\n",
       "      <td>0</td>\n",
       "      <td>0</td>\n",
       "      <td>1</td>\n",
       "      <td>0</td>\n",
       "      <td>0</td>\n",
       "    </tr>\n",
       "    <tr>\n",
       "      <th>3</th>\n",
       "      <td>14950</td>\n",
       "      <td>26</td>\n",
       "      <td>48000</td>\n",
       "      <td>Diesel</td>\n",
       "      <td>90</td>\n",
       "      <td>0</td>\n",
       "      <td>0</td>\n",
       "      <td>2000</td>\n",
       "      <td>3</td>\n",
       "      <td>1</td>\n",
       "      <td>...</td>\n",
       "      <td>1</td>\n",
       "      <td>0</td>\n",
       "      <td>0</td>\n",
       "      <td>1</td>\n",
       "      <td>0</td>\n",
       "      <td>0</td>\n",
       "      <td>0</td>\n",
       "      <td>1</td>\n",
       "      <td>0</td>\n",
       "      <td>0</td>\n",
       "    </tr>\n",
       "    <tr>\n",
       "      <th>4</th>\n",
       "      <td>13750</td>\n",
       "      <td>30</td>\n",
       "      <td>38500</td>\n",
       "      <td>Diesel</td>\n",
       "      <td>90</td>\n",
       "      <td>0</td>\n",
       "      <td>0</td>\n",
       "      <td>2000</td>\n",
       "      <td>3</td>\n",
       "      <td>1</td>\n",
       "      <td>...</td>\n",
       "      <td>1</td>\n",
       "      <td>1</td>\n",
       "      <td>0</td>\n",
       "      <td>1</td>\n",
       "      <td>0</td>\n",
       "      <td>1</td>\n",
       "      <td>1</td>\n",
       "      <td>1</td>\n",
       "      <td>1</td>\n",
       "      <td>0</td>\n",
       "    </tr>\n",
       "    <tr>\n",
       "      <th>5</th>\n",
       "      <td>12950</td>\n",
       "      <td>32</td>\n",
       "      <td>61000</td>\n",
       "      <td>Diesel</td>\n",
       "      <td>90</td>\n",
       "      <td>0</td>\n",
       "      <td>0</td>\n",
       "      <td>2000</td>\n",
       "      <td>3</td>\n",
       "      <td>0</td>\n",
       "      <td>...</td>\n",
       "      <td>1</td>\n",
       "      <td>1</td>\n",
       "      <td>0</td>\n",
       "      <td>1</td>\n",
       "      <td>0</td>\n",
       "      <td>1</td>\n",
       "      <td>1</td>\n",
       "      <td>1</td>\n",
       "      <td>1</td>\n",
       "      <td>0</td>\n",
       "    </tr>\n",
       "  </tbody>\n",
       "</table>\n",
       "<p>6 rows × 21 columns</p>\n",
       "</div>"
      ],
      "text/plain": [
       "   Price  Age     KM Fuel_Type  HP  Met_Color  Automatic    cc  Doors  \\\n",
       "0  13500   23  46986    Diesel  90          1          0  2000      3   \n",
       "1  13750   23  72937    Diesel  90          1          0  2000      3   \n",
       "2  13950   24  41711    Diesel  90          1          0  2000      3   \n",
       "3  14950   26  48000    Diesel  90          0          0  2000      3   \n",
       "4  13750   30  38500    Diesel  90          0          0  2000      3   \n",
       "5  12950   32  61000    Diesel  90          0          0  2000      3   \n",
       "\n",
       "   Mfr_Guarantee  ...  ABS  Airco  Automatic_airco  Boardcomputer  CD_Player  \\\n",
       "0              0  ...    1      0                0              1          0   \n",
       "1              0  ...    1      1                0              1          1   \n",
       "2              1  ...    1      0                0              1          0   \n",
       "3              1  ...    1      0                0              1          0   \n",
       "4              1  ...    1      1                0              1          0   \n",
       "5              0  ...    1      1                0              1          0   \n",
       "\n",
       "   Central_Lock  Powered_Windows  Power_Steering  Mistlamps  Sport_Model  \n",
       "0             1                1               1          0            0  \n",
       "1             1                0               1          0            0  \n",
       "2             0                0               1          0            0  \n",
       "3             0                0               1          0            0  \n",
       "4             1                1               1          1            0  \n",
       "5             1                1               1          1            0  \n",
       "\n",
       "[6 rows x 21 columns]"
      ]
     },
     "execution_count": 4,
     "metadata": {},
     "output_type": "execute_result"
    }
   ],
   "source": [
    "data.head(6)"
   ]
  },
  {
   "cell_type": "code",
   "execution_count": 5,
   "id": "0a0f9dde",
   "metadata": {},
   "outputs": [
    {
     "name": "stdout",
     "output_type": "stream",
     "text": [
      "1436\n"
     ]
    }
   ],
   "source": [
    "#step2...part1\n",
    "print(len(data))"
   ]
  },
  {
   "cell_type": "code",
   "execution_count": 6,
   "id": "2948bb33",
   "metadata": {},
   "outputs": [
    {
     "name": "stdout",
     "output_type": "stream",
     "text": [
      "(1436, 21)\n"
     ]
    }
   ],
   "source": [
    "#step2...part2\n",
    "print(data.shape)"
   ]
  },
  {
   "cell_type": "code",
   "execution_count": 7,
   "id": "fb9a126d",
   "metadata": {},
   "outputs": [
    {
     "data": {
      "text/plain": [
       "Price               0\n",
       "Age                 0\n",
       "KM                  0\n",
       "Fuel_Type           0\n",
       "HP                  0\n",
       "Met_Color           0\n",
       "Automatic           0\n",
       "cc                  0\n",
       "Doors               0\n",
       "Mfr_Guarantee       0\n",
       "Guarantee_Period    0\n",
       "ABS                 0\n",
       "Airco               0\n",
       "Automatic_airco     0\n",
       "Boardcomputer       0\n",
       "CD_Player           0\n",
       "Central_Lock        0\n",
       "Powered_Windows     0\n",
       "Power_Steering      0\n",
       "Mistlamps           0\n",
       "Sport_Model         0\n",
       "dtype: int64"
      ]
     },
     "execution_count": 7,
     "metadata": {},
     "output_type": "execute_result"
    }
   ],
   "source": [
    "#step2...part3\n",
    "data.isnull().sum()"
   ]
  },
  {
   "cell_type": "code",
   "execution_count": 8,
   "id": "0731da35",
   "metadata": {},
   "outputs": [
    {
     "name": "stdout",
     "output_type": "stream",
     "text": [
      "Counter({'Doors': 5})\n"
     ]
    }
   ],
   "source": [
    "#step2...part4\n",
    "import collections\n",
    "c = collections.Counter({'Doors':2, 'Doors':3, 'Doors':4, 'Doors':5})\n",
    "\n",
    "print (c)"
   ]
  },
  {
   "cell_type": "code",
   "execution_count": 9,
   "id": "fb621c5b",
   "metadata": {},
   "outputs": [
    {
     "name": "stdout",
     "output_type": "stream",
     "text": [
      "Counter({'Petrol': 1, 'Diesel': 1, 'CNG': 1})\n"
     ]
    }
   ],
   "source": [
    "#step2...part5\n",
    "import collections\n",
    "c = collections.Counter({'Petrol', 'Diesel', 'CNG'})\n",
    "\n",
    "print (c)"
   ]
  },
  {
   "cell_type": "code",
   "execution_count": 10,
   "id": "e030142d",
   "metadata": {},
   "outputs": [
    {
     "data": {
      "text/plain": [
       "Fuel_Type\n",
       "CNG        9421.176471\n",
       "Diesel    11294.554839\n",
       "Petrol    10679.310127\n",
       "Name: Price, dtype: float64"
      ]
     },
     "execution_count": 10,
     "metadata": {},
     "output_type": "execute_result"
    }
   ],
   "source": [
    "#step3...part1\n",
    "data_g = data.groupby('Fuel_Type')\n",
    "data_g['Price'].mean()"
   ]
  },
  {
   "cell_type": "code",
   "execution_count": 11,
   "id": "1e4f7012",
   "metadata": {},
   "outputs": [],
   "source": [
    "#which class is more expensive? Diesel because Price: 11294.554839"
   ]
  },
  {
   "cell_type": "code",
   "execution_count": 12,
   "id": "8c8ffafa",
   "metadata": {},
   "outputs": [
    {
     "data": {
      "text/plain": [
       "ABS\n",
       "0     8413.626866\n",
       "1    11262.510274\n",
       "Name: Price, dtype: float64"
      ]
     },
     "execution_count": 12,
     "metadata": {},
     "output_type": "execute_result"
    }
   ],
   "source": [
    "#step3...part2\n",
    "data_g = data.groupby('ABS')\n",
    "data_g['Price'].mean()"
   ]
  },
  {
   "cell_type": "code",
   "execution_count": 13,
   "id": "41b3ebe1",
   "metadata": {},
   "outputs": [
    {
     "data": {
      "text/plain": [
       "Met_Color\n",
       "0    10162.047109\n",
       "1    11004.941176\n",
       "Name: Price, dtype: float64"
      ]
     },
     "execution_count": 13,
     "metadata": {},
     "output_type": "execute_result"
    }
   ],
   "source": [
    "#step3...part3\n",
    "data_g = data.groupby('Met_Color')\n",
    "data_g['Price'].mean()"
   ]
  },
  {
   "cell_type": "code",
   "execution_count": 14,
   "id": "bc37cf7e",
   "metadata": {},
   "outputs": [
    {
     "data": {
      "text/plain": [
       "Doors\n",
       "2     8100.000000\n",
       "3    10107.342444\n",
       "4     9806.768116\n",
       "5    11503.209199\n",
       "Name: Price, dtype: float64"
      ]
     },
     "execution_count": 14,
     "metadata": {},
     "output_type": "execute_result"
    }
   ],
   "source": [
    "#step3...part4\n",
    "data_g = data.groupby('Doors')\n",
    "data_g['Price'].mean()"
   ]
  },
  {
   "cell_type": "code",
   "execution_count": 15,
   "id": "40cdbbe6",
   "metadata": {},
   "outputs": [
    {
     "data": {
      "image/png": "[encoded data removed]",
      "text/plain": [
       "<Figure size 432x288 with 1 Axes>"
      ]
     },
     "metadata": {
      "needs_background": "light"
     },
     "output_type": "display_data"
    }
   ],
   "source": [
    "#step4...part1\n",
    "import numpy as np\n",
    "import matplotlib.pyplot as plt\n",
    "\n",
    "data1 = np.random.random((50,2))\n",
    "data2 = np.random.random((50,2))\n",
    "\n",
    "fig, ax = plt.subplots(figsize=(6,4))\n",
    "\n",
    "ax.scatter(data1[:,0], data1[:,1], color='orange', marker='.', linewidth=4)\n",
    "ax.scatter(data2[:,0], data2[:,1], color='blue', marker='*', linewidth=3)\n",
    "\n",
    "ax.set_xlabel('KM', fontsize=12)\n",
    "ax.set_ylabel('Price', fontsize=12)\n",
    "ax.set_title('First Plot', fontsize=14)\n",
    "\n",
    "plt.show()"
   ]
  },
  {
   "cell_type": "code",
   "execution_count": 16,
   "id": "9e98aabe",
   "metadata": {},
   "outputs": [
    {
     "data": {
      "image/png": "[encoded data removed]",
      "text/plain": [
       "<Figure size 432x288 with 1 Axes>"
      ]
     },
     "metadata": {
      "needs_background": "light"
     },
     "output_type": "display_data"
    }
   ],
   "source": [
    "#step4...part2\n",
    "data1 = np.random.random((50,2))\n",
    "data2 = np.random.random((50,2))\n",
    "\n",
    "fig, ax = plt.subplots(figsize=(6,4))\n",
    "\n",
    "ax.scatter(data1[:,0], data1[:,1], color='orange', marker='.', linewidth=4)\n",
    "ax.scatter(data2[:,0], data2[:,1], color='blue', marker='*', linewidth=3)\n",
    "\n",
    "ax.set_xlabel('cc', fontsize=12)\n",
    "ax.set_ylabel('Price', fontsize=12)\n",
    "ax.set_title('Second Plot', fontsize=14)\n",
    "\n",
    "plt.show()"
   ]
  },
  {
   "cell_type": "code",
   "execution_count": 17,
   "id": "e76d802f",
   "metadata": {},
   "outputs": [
    {
     "data": {
      "text/plain": [
       "array([[<AxesSubplot:title={'center':'Age'}>,\n",
       "        <AxesSubplot:title={'center':'KM'}>],\n",
       "       [<AxesSubplot:title={'center':'HP'}>,\n",
       "        <AxesSubplot:title={'center':'cc'}>],\n",
       "       [<AxesSubplot:title={'center':'Doors'}>,\n",
       "        <AxesSubplot:title={'center':'Guarantee_Period'}>]], dtype=object)"
      ]
     },
     "execution_count": 17,
     "metadata": {},
     "output_type": "execute_result"
    },
    {
     "data": {
      "image/png": "[encoded data removed]",
      "text/plain": [
       "<Figure size 1080x432 with 6 Axes>"
      ]
     },
     "metadata": {
      "needs_background": "light"
     },
     "output_type": "display_data"
    }
   ],
   "source": [
    "#step4...part3\n",
    "%matplotlib inline\n",
    "data.hist(column=['Age', 'KM', 'HP', 'cc', 'Doors', 'Guarantee_Period'],bins=5, figsize=(15,6))"
   ]
  },
  {
   "cell_type": "code",
   "execution_count": 18,
   "id": "c18dd292",
   "metadata": {},
   "outputs": [
    {
     "data": {
      "text/plain": [
       "<AxesSubplot:>"
      ]
     },
     "execution_count": 18,
     "metadata": {},
     "output_type": "execute_result"
    },
    {
     "data": {
      "image/png": "[encoded data removed]",
      "text/plain": [
       "<Figure size 1080x432 with 1 Axes>"
      ]
     },
     "metadata": {
      "needs_background": "light"
     },
     "output_type": "display_data"
    }
   ],
   "source": [
    "#step4...part4\n",
    "import matplotlib.pyplot as plt\n",
    "%matplotlib inline\n",
    "data.boxplot(column=['Age', 'KM', 'HP', 'cc', 'Doors', 'Guarantee_Period'], figsize=(15,6))"
   ]
  },
  {
   "cell_type": "code",
   "execution_count": 19,
   "id": "6b3023e2",
   "metadata": {},
   "outputs": [
    {
     "data": {
      "text/plain": [
       "<AxesSubplot:>"
      ]
     },
     "execution_count": 19,
     "metadata": {},
     "output_type": "execute_result"
    },
    {
     "data": {
      "image/png": "[encoded data removed]",
      "text/plain": [
       "<Figure size 432x288 with 1 Axes>"
      ]
     },
     "metadata": {
      "needs_background": "light"
     },
     "output_type": "display_data"
    }
   ],
   "source": [
    "#step5\n",
    "import matplotlib.pyplot as plt\n",
    "%matplotlib inline\n",
    "data.boxplot(['Age', 'KM', 'HP', 'cc', 'Doors', 'Guarantee_Period'], showfliers=False)"
   ]
  },
  {
   "cell_type": "code",
   "execution_count": 20,
   "id": "214eb292",
   "metadata": {},
   "outputs": [],
   "source": [
    "#step6\n",
    "dummy = pd.get_dummies(data['Fuel_Type'])\n",
    "# Concatenate the dummies to original dataframe\n",
    "data = pd.concat([data, dummy], axis='columns')\n",
    "# drop the categorial column\n",
    "data = data.drop(['Fuel_Type'], axis='columns')"
   ]
  },
  {
   "cell_type": "code",
   "execution_count": 21,
   "id": "edaef4bc",
   "metadata": {},
   "outputs": [
    {
     "data": {
      "text/html": [
       "<div>\n",
       "<style scoped>\n",
       "    .dataframe tbody tr th:only-of-type {\n",
       "        vertical-align: middle;\n",
       "    }\n",
       "\n",
       "    .dataframe tbody tr th {\n",
       "        vertical-align: top;\n",
       "    }\n",
       "\n",
       "    .dataframe thead th {\n",
       "        text-align: right;\n",
       "    }\n",
       "</style>\n",
       "<table border=\"1\" class=\"dataframe\">\n",
       "  <thead>\n",
       "    <tr style=\"text-align: right;\">\n",
       "      <th></th>\n",
       "      <th>Price</th>\n",
       "      <th>Age</th>\n",
       "      <th>KM</th>\n",
       "      <th>HP</th>\n",
       "      <th>Met_Color</th>\n",
       "      <th>Automatic</th>\n",
       "      <th>cc</th>\n",
       "      <th>Doors</th>\n",
       "      <th>Mfr_Guarantee</th>\n",
       "      <th>Guarantee_Period</th>\n",
       "      <th>...</th>\n",
       "      <th>Boardcomputer</th>\n",
       "      <th>CD_Player</th>\n",
       "      <th>Central_Lock</th>\n",
       "      <th>Powered_Windows</th>\n",
       "      <th>Power_Steering</th>\n",
       "      <th>Mistlamps</th>\n",
       "      <th>Sport_Model</th>\n",
       "      <th>CNG</th>\n",
       "      <th>Diesel</th>\n",
       "      <th>Petrol</th>\n",
       "    </tr>\n",
       "  </thead>\n",
       "  <tbody>\n",
       "    <tr>\n",
       "      <th>0</th>\n",
       "      <td>13500</td>\n",
       "      <td>23</td>\n",
       "      <td>46986</td>\n",
       "      <td>90</td>\n",
       "      <td>1</td>\n",
       "      <td>0</td>\n",
       "      <td>2000</td>\n",
       "      <td>3</td>\n",
       "      <td>0</td>\n",
       "      <td>3</td>\n",
       "      <td>...</td>\n",
       "      <td>1</td>\n",
       "      <td>0</td>\n",
       "      <td>1</td>\n",
       "      <td>1</td>\n",
       "      <td>1</td>\n",
       "      <td>0</td>\n",
       "      <td>0</td>\n",
       "      <td>0</td>\n",
       "      <td>1</td>\n",
       "      <td>0</td>\n",
       "    </tr>\n",
       "    <tr>\n",
       "      <th>1</th>\n",
       "      <td>13750</td>\n",
       "      <td>23</td>\n",
       "      <td>72937</td>\n",
       "      <td>90</td>\n",
       "      <td>1</td>\n",
       "      <td>0</td>\n",
       "      <td>2000</td>\n",
       "      <td>3</td>\n",
       "      <td>0</td>\n",
       "      <td>3</td>\n",
       "      <td>...</td>\n",
       "      <td>1</td>\n",
       "      <td>1</td>\n",
       "      <td>1</td>\n",
       "      <td>0</td>\n",
       "      <td>1</td>\n",
       "      <td>0</td>\n",
       "      <td>0</td>\n",
       "      <td>0</td>\n",
       "      <td>1</td>\n",
       "      <td>0</td>\n",
       "    </tr>\n",
       "    <tr>\n",
       "      <th>2</th>\n",
       "      <td>13950</td>\n",
       "      <td>24</td>\n",
       "      <td>41711</td>\n",
       "      <td>90</td>\n",
       "      <td>1</td>\n",
       "      <td>0</td>\n",
       "      <td>2000</td>\n",
       "      <td>3</td>\n",
       "      <td>1</td>\n",
       "      <td>3</td>\n",
       "      <td>...</td>\n",
       "      <td>1</td>\n",
       "      <td>0</td>\n",
       "      <td>0</td>\n",
       "      <td>0</td>\n",
       "      <td>1</td>\n",
       "      <td>0</td>\n",
       "      <td>0</td>\n",
       "      <td>0</td>\n",
       "      <td>1</td>\n",
       "      <td>0</td>\n",
       "    </tr>\n",
       "    <tr>\n",
       "      <th>3</th>\n",
       "      <td>14950</td>\n",
       "      <td>26</td>\n",
       "      <td>48000</td>\n",
       "      <td>90</td>\n",
       "      <td>0</td>\n",
       "      <td>0</td>\n",
       "      <td>2000</td>\n",
       "      <td>3</td>\n",
       "      <td>1</td>\n",
       "      <td>3</td>\n",
       "      <td>...</td>\n",
       "      <td>1</td>\n",
       "      <td>0</td>\n",
       "      <td>0</td>\n",
       "      <td>0</td>\n",
       "      <td>1</td>\n",
       "      <td>0</td>\n",
       "      <td>0</td>\n",
       "      <td>0</td>\n",
       "      <td>1</td>\n",
       "      <td>0</td>\n",
       "    </tr>\n",
       "    <tr>\n",
       "      <th>4</th>\n",
       "      <td>13750</td>\n",
       "      <td>30</td>\n",
       "      <td>38500</td>\n",
       "      <td>90</td>\n",
       "      <td>0</td>\n",
       "      <td>0</td>\n",
       "      <td>2000</td>\n",
       "      <td>3</td>\n",
       "      <td>1</td>\n",
       "      <td>3</td>\n",
       "      <td>...</td>\n",
       "      <td>1</td>\n",
       "      <td>0</td>\n",
       "      <td>1</td>\n",
       "      <td>1</td>\n",
       "      <td>1</td>\n",
       "      <td>1</td>\n",
       "      <td>0</td>\n",
       "      <td>0</td>\n",
       "      <td>1</td>\n",
       "      <td>0</td>\n",
       "    </tr>\n",
       "    <tr>\n",
       "      <th>5</th>\n",
       "      <td>12950</td>\n",
       "      <td>32</td>\n",
       "      <td>61000</td>\n",
       "      <td>90</td>\n",
       "      <td>0</td>\n",
       "      <td>0</td>\n",
       "      <td>2000</td>\n",
       "      <td>3</td>\n",
       "      <td>0</td>\n",
       "      <td>3</td>\n",
       "      <td>...</td>\n",
       "      <td>1</td>\n",
       "      <td>0</td>\n",
       "      <td>1</td>\n",
       "      <td>1</td>\n",
       "      <td>1</td>\n",
       "      <td>1</td>\n",
       "      <td>0</td>\n",
       "      <td>0</td>\n",
       "      <td>1</td>\n",
       "      <td>0</td>\n",
       "    </tr>\n",
       "    <tr>\n",
       "      <th>6</th>\n",
       "      <td>16900</td>\n",
       "      <td>27</td>\n",
       "      <td>94612</td>\n",
       "      <td>90</td>\n",
       "      <td>1</td>\n",
       "      <td>0</td>\n",
       "      <td>2000</td>\n",
       "      <td>3</td>\n",
       "      <td>0</td>\n",
       "      <td>3</td>\n",
       "      <td>...</td>\n",
       "      <td>1</td>\n",
       "      <td>0</td>\n",
       "      <td>1</td>\n",
       "      <td>1</td>\n",
       "      <td>1</td>\n",
       "      <td>0</td>\n",
       "      <td>1</td>\n",
       "      <td>0</td>\n",
       "      <td>1</td>\n",
       "      <td>0</td>\n",
       "    </tr>\n",
       "    <tr>\n",
       "      <th>7</th>\n",
       "      <td>18600</td>\n",
       "      <td>30</td>\n",
       "      <td>75889</td>\n",
       "      <td>90</td>\n",
       "      <td>1</td>\n",
       "      <td>0</td>\n",
       "      <td>2000</td>\n",
       "      <td>3</td>\n",
       "      <td>1</td>\n",
       "      <td>3</td>\n",
       "      <td>...</td>\n",
       "      <td>1</td>\n",
       "      <td>1</td>\n",
       "      <td>1</td>\n",
       "      <td>1</td>\n",
       "      <td>1</td>\n",
       "      <td>0</td>\n",
       "      <td>0</td>\n",
       "      <td>0</td>\n",
       "      <td>1</td>\n",
       "      <td>0</td>\n",
       "    </tr>\n",
       "    <tr>\n",
       "      <th>8</th>\n",
       "      <td>21500</td>\n",
       "      <td>27</td>\n",
       "      <td>19700</td>\n",
       "      <td>192</td>\n",
       "      <td>0</td>\n",
       "      <td>0</td>\n",
       "      <td>1800</td>\n",
       "      <td>3</td>\n",
       "      <td>0</td>\n",
       "      <td>3</td>\n",
       "      <td>...</td>\n",
       "      <td>0</td>\n",
       "      <td>0</td>\n",
       "      <td>1</td>\n",
       "      <td>1</td>\n",
       "      <td>1</td>\n",
       "      <td>0</td>\n",
       "      <td>0</td>\n",
       "      <td>0</td>\n",
       "      <td>0</td>\n",
       "      <td>1</td>\n",
       "    </tr>\n",
       "    <tr>\n",
       "      <th>9</th>\n",
       "      <td>12950</td>\n",
       "      <td>23</td>\n",
       "      <td>71138</td>\n",
       "      <td>69</td>\n",
       "      <td>0</td>\n",
       "      <td>0</td>\n",
       "      <td>1900</td>\n",
       "      <td>3</td>\n",
       "      <td>0</td>\n",
       "      <td>3</td>\n",
       "      <td>...</td>\n",
       "      <td>1</td>\n",
       "      <td>0</td>\n",
       "      <td>0</td>\n",
       "      <td>0</td>\n",
       "      <td>1</td>\n",
       "      <td>0</td>\n",
       "      <td>0</td>\n",
       "      <td>0</td>\n",
       "      <td>1</td>\n",
       "      <td>0</td>\n",
       "    </tr>\n",
       "  </tbody>\n",
       "</table>\n",
       "<p>10 rows × 23 columns</p>\n",
       "</div>"
      ],
      "text/plain": [
       "   Price  Age     KM   HP  Met_Color  Automatic    cc  Doors  Mfr_Guarantee  \\\n",
       "0  13500   23  46986   90          1          0  2000      3              0   \n",
       "1  13750   23  72937   90          1          0  2000      3              0   \n",
       "2  13950   24  41711   90          1          0  2000      3              1   \n",
       "3  14950   26  48000   90          0          0  2000      3              1   \n",
       "4  13750   30  38500   90          0          0  2000      3              1   \n",
       "5  12950   32  61000   90          0          0  2000      3              0   \n",
       "6  16900   27  94612   90          1          0  2000      3              0   \n",
       "7  18600   30  75889   90          1          0  2000      3              1   \n",
       "8  21500   27  19700  192          0          0  1800      3              0   \n",
       "9  12950   23  71138   69          0          0  1900      3              0   \n",
       "\n",
       "   Guarantee_Period  ...  Boardcomputer  CD_Player  Central_Lock  \\\n",
       "0                 3  ...              1          0             1   \n",
       "1                 3  ...              1          1             1   \n",
       "2                 3  ...              1          0             0   \n",
       "3                 3  ...              1          0             0   \n",
       "4                 3  ...              1          0             1   \n",
       "5                 3  ...              1          0             1   \n",
       "6                 3  ...              1          0             1   \n",
       "7                 3  ...              1          1             1   \n",
       "8                 3  ...              0          0             1   \n",
       "9                 3  ...              1          0             0   \n",
       "\n",
       "   Powered_Windows  Power_Steering  Mistlamps  Sport_Model  CNG  Diesel  \\\n",
       "0                1               1          0            0    0       1   \n",
       "1                0               1          0            0    0       1   \n",
       "2                0               1          0            0    0       1   \n",
       "3                0               1          0            0    0       1   \n",
       "4                1               1          1            0    0       1   \n",
       "5                1               1          1            0    0       1   \n",
       "6                1               1          0            1    0       1   \n",
       "7                1               1          0            0    0       1   \n",
       "8                1               1          0            0    0       0   \n",
       "9                0               1          0            0    0       1   \n",
       "\n",
       "   Petrol  \n",
       "0       0  \n",
       "1       0  \n",
       "2       0  \n",
       "3       0  \n",
       "4       0  \n",
       "5       0  \n",
       "6       0  \n",
       "7       0  \n",
       "8       1  \n",
       "9       0  \n",
       "\n",
       "[10 rows x 23 columns]"
      ]
     },
     "execution_count": 21,
     "metadata": {},
     "output_type": "execute_result"
    }
   ],
   "source": [
    "#step7\n",
    "#import pandas as pd\n",
    "#data = pd.read_csv('C:\\\\Users\\\\malfa\\\\Desktop\\\\python program course\\\\Toyota_Corolla.csv')\n",
    "data.head(10)"
   ]
  },
  {
   "cell_type": "code",
   "execution_count": 22,
   "id": "795184f2",
   "metadata": {},
   "outputs": [
    {
     "name": "stdout",
     "output_type": "stream",
     "text": [
      "0       13500\n",
      "1       13750\n",
      "2       13950\n",
      "3       14950\n",
      "4       13750\n",
      "        ...  \n",
      "1431     7500\n",
      "1432    10845\n",
      "1433     8500\n",
      "1434     7250\n",
      "1435     6950\n",
      "Name: Price, Length: 1436, dtype: int64\n",
      "      Age     KM   HP  Met_Color  Automatic    cc  Doors  Mfr_Guarantee  \\\n",
      "0      23  46986   90          1          0  2000      3              0   \n",
      "1      23  72937   90          1          0  2000      3              0   \n",
      "2      24  41711   90          1          0  2000      3              1   \n",
      "3      26  48000   90          0          0  2000      3              1   \n",
      "4      30  38500   90          0          0  2000      3              1   \n",
      "...   ...    ...  ...        ...        ...   ...    ...            ...   \n",
      "1431   69  20544   86          1          0  1300      3              1   \n",
      "1432   72  19000   86          0          0  1300      3              0   \n",
      "1433   71  17016   86          0          0  1300      3              0   \n",
      "1434   70  16916   86          1          0  1300      3              1   \n",
      "1435   76      1  110          0          0  1600      5              0   \n",
      "\n",
      "      Guarantee_Period  ABS  ...  Boardcomputer  CD_Player  Central_Lock  \\\n",
      "0                    3    1  ...              1          0             1   \n",
      "1                    3    1  ...              1          1             1   \n",
      "2                    3    1  ...              1          0             0   \n",
      "3                    3    1  ...              1          0             0   \n",
      "4                    3    1  ...              1          0             1   \n",
      "...                ...  ...  ...            ...        ...           ...   \n",
      "1431                 3    1  ...              0          0             1   \n",
      "1432                 3    1  ...              0          0             0   \n",
      "1433                 3    0  ...              0          0             0   \n",
      "1434                 3    0  ...              0          0             0   \n",
      "1435                 3    0  ...              0          0             0   \n",
      "\n",
      "      Powered_Windows  Power_Steering  Mistlamps  Sport_Model  CNG  Diesel  \\\n",
      "0                   1               1          0            0    0       1   \n",
      "1                   0               1          0            0    0       1   \n",
      "2                   0               1          0            0    0       1   \n",
      "3                   0               1          0            0    0       1   \n",
      "4                   1               1          1            0    0       1   \n",
      "...               ...             ...        ...          ...  ...     ...   \n",
      "1431                1               1          1            1    0       0   \n",
      "1432                0               1          0            1    0       0   \n",
      "1433                0               1          0            0    0       0   \n",
      "1434                0               0          0            0    0       0   \n",
      "1435                0               1          0            0    0       0   \n",
      "\n",
      "      Petrol  \n",
      "0          0  \n",
      "1          0  \n",
      "2          0  \n",
      "3          0  \n",
      "4          0  \n",
      "...      ...  \n",
      "1431       1  \n",
      "1432       1  \n",
      "1433       1  \n",
      "1434       1  \n",
      "1435       1  \n",
      "\n",
      "[1436 rows x 22 columns]\n"
     ]
    }
   ],
   "source": [
    "#step8\n",
    "y = data[\"Price\"]\n",
    "X = data.drop('Price', axis = 1)\n",
    "print(y)\n",
    "print(X)"
   ]
  },
  {
   "cell_type": "code",
   "execution_count": 23,
   "id": "96bc9ea5",
   "metadata": {
    "scrolled": true
   },
   "outputs": [
    {
     "name": "stdout",
     "output_type": "stream",
     "text": [
      "Shape of X_train:  (1077, 22)\n",
      "Shape of X_test:  (359, 22)\n",
      "Shape of y_train:  (1077,)\n",
      "Shape of y_test (359,)\n"
     ]
    }
   ],
   "source": [
    "#step8 & step9 & step10\n",
    "#Splitting the dataset into the Training set and Test set\n",
    "from sklearn.model_selection import train_test_split\n",
    "\n",
    "X_train, X_test, y_train, y_test = train_test_split(X, y, test_size=0.25)\n",
    "\n",
    "print(\"Shape of X_train: \",X_train.shape)\n",
    "print(\"Shape of X_test: \", X_test.shape)\n",
    "print(\"Shape of y_train: \",y_train.shape)\n",
    "print(\"Shape of y_test\",y_test.shape)"
   ]
  },
  {
   "cell_type": "code",
   "execution_count": 24,
   "id": "e53c03a6",
   "metadata": {},
   "outputs": [
    {
     "name": "stdout",
     "output_type": "stream",
     "text": [
      "[-1.26673163e+02 -1.94414849e-02  4.00102961e+01 -1.40073223e+02\n",
      "  7.87740138e+02 -1.32747560e-01  1.99741504e+02  3.15846541e+02\n",
      "  4.09122119e+01 -4.05634702e+02  1.56283997e+02  3.05406108e+03\n",
      " -4.18517465e+02  2.96449120e+02 -1.51197109e+02  5.78390228e+02\n",
      "  9.42748343e+01  1.43445395e+02  4.62338251e+02 -8.28095426e+02\n",
      "  1.44973806e+03 -6.21642636e+02]\n",
      "14291.784539784203\n"
     ]
    }
   ],
   "source": [
    "#step11\n",
    "from sklearn.linear_model import LinearRegression\n",
    "\n",
    "lr_model = LinearRegression()\n",
    "lr_model.fit(X_train, y_train)\n",
    "LinearRegression(copy_X=True, fit_intercept=True, n_jobs=None, normalize=True)\n",
    "\n",
    "print(lr_model.coef_)\n",
    "print(lr_model.intercept_)"
   ]
  },
  {
   "cell_type": "code",
   "execution_count": 25,
   "id": "32daf145",
   "metadata": {},
   "outputs": [
    {
     "name": "stdout",
     "output_type": "stream",
     "text": [
      "Score of train data\n",
      "0.8873005449556254\n",
      "Score of test data\n",
      "0.8641623681317583\n"
     ]
    }
   ],
   "source": [
    "#step12\n",
    "print(\"Score of train data\")\n",
    "print(lr_model.score(X_train, y_train))\n",
    "print(\"Score of test data\")\n",
    "print(lr_model.score(X_test, y_test))"
   ]
  },
  {
   "cell_type": "code",
   "execution_count": 26,
   "id": "662a848b",
   "metadata": {},
   "outputs": [
    {
     "data": {
      "image/png": "[encoded data removed]",
      "text/plain": [
       "<Figure size 432x288 with 1 Axes>"
      ]
     },
     "metadata": {
      "needs_background": "light"
     },
     "output_type": "display_data"
    }
   ],
   "source": [
    "#step13\n",
    "y_hat_test = lr_model.predict(X_test)\n",
    "plt.scatter(y_hat_test, y_test)\n",
    "plt.show()"
   ]
  },
  {
   "cell_type": "code",
   "execution_count": 27,
   "id": "7108cf08",
   "metadata": {},
   "outputs": [
    {
     "name": "stdout",
     "output_type": "stream",
     "text": [
      "0.8635579607271198\n"
     ]
    }
   ],
   "source": [
    "#step14...1\n",
    "from sklearn.metrics import r2_score\n",
    "r2 = r2_score(y_hat_test, y_test)\n",
    "print(r2)"
   ]
  },
  {
   "cell_type": "code",
   "execution_count": 28,
   "id": "41320ad4",
   "metadata": {},
   "outputs": [
    {
     "name": "stdout",
     "output_type": "stream",
     "text": [
      "1523817.8939740951\n"
     ]
    }
   ],
   "source": [
    "#step14...2\n",
    "from sklearn.metrics import mean_squared_error\n",
    "mse = mean_squared_error(y_hat_test, y_test)\n",
    "print(mse)"
   ]
  },
  {
   "cell_type": "code",
   "execution_count": 29,
   "id": "a763414a",
   "metadata": {},
   "outputs": [
    {
     "data": {
      "text/plain": [
       "RandomForestRegressor(n_estimators=1200, random_state=0)"
      ]
     },
     "execution_count": 29,
     "metadata": {},
     "output_type": "execute_result"
    }
   ],
   "source": [
    "#step 15\n",
    "from sklearn.ensemble import RandomForestRegressor\n",
    "regressor_rf = RandomForestRegressor(n_estimators = 1200, random_state = 0)\n",
    "regressor_rf.fit(X_train, y_train.ravel())"
   ]
  },
  {
   "cell_type": "code",
   "execution_count": 30,
   "id": "ce334cce",
   "metadata": {},
   "outputs": [
    {
     "name": "stdout",
     "output_type": "stream",
     "text": [
      "Score of train data\n",
      "0.9872933233037451\n",
      "Score of test data\n",
      "0.902289079972635\n"
     ]
    }
   ],
   "source": [
    "print(\"Score of train data\")\n",
    "print(regressor_rf.score(X_train, y_train))\n",
    "print(\"Score of test data\")\n",
    "print(regressor_rf.score(X_test, y_test))"
   ]
  },
  {
   "cell_type": "code",
   "execution_count": 31,
   "id": "51942b04",
   "metadata": {},
   "outputs": [
    {
     "data": {
      "image/png": "[encoded data removed]",
      "text/plain": [
       "<Figure size 432x288 with 1 Axes>"
      ]
     },
     "metadata": {
      "needs_background": "light"
     },
     "output_type": "display_data"
    }
   ],
   "source": [
    "y_hat_test = regressor_rf.predict(X_test)\n",
    "plt.scatter(y_hat_test, y_test)\n",
    "plt.show()"
   ]
  },
  {
   "cell_type": "code",
   "execution_count": 32,
   "id": "288fcf91",
   "metadata": {},
   "outputs": [
    {
     "name": "stdout",
     "output_type": "stream",
     "text": [
      "0.8978323157015586\n"
     ]
    }
   ],
   "source": [
    "from sklearn.metrics import r2_score\n",
    "r2 = r2_score(y_hat_test, y_test)\n",
    "print(r2)"
   ]
  },
  {
   "cell_type": "code",
   "execution_count": 33,
   "id": "11422606",
   "metadata": {},
   "outputs": [
    {
     "name": "stdout",
     "output_type": "stream",
     "text": [
      "1096114.8713104248\n"
     ]
    }
   ],
   "source": [
    "from sklearn.metrics import mean_squared_error\n",
    "mse = mean_squared_error(y_hat_test, y_test)\n",
    "print(mse)"
   ]
  },
  {
   "cell_type": "code",
   "execution_count": 34,
   "id": "af69c31e",
   "metadata": {},
   "outputs": [
    {
     "data": {
      "text/plain": [
       "KNeighborsRegressor(metric='euclidean', n_neighbors=3)"
      ]
     },
     "execution_count": 34,
     "metadata": {},
     "output_type": "execute_result"
    }
   ],
   "source": [
    "#step 16\n",
    "from sklearn.neighbors import KNeighborsRegressor\n",
    "knn_reg = KNeighborsRegressor(n_neighbors=3, metric='euclidean')\n",
    "knn_reg.fit(X, y)"
   ]
  },
  {
   "cell_type": "code",
   "execution_count": 35,
   "id": "8f65e2b7",
   "metadata": {},
   "outputs": [
    {
     "name": "stdout",
     "output_type": "stream",
     "text": [
      "Score of train data\n",
      "0.7213317887363875\n",
      "Score of test data\n",
      "0.7303873699046921\n"
     ]
    }
   ],
   "source": [
    "print(\"Score of train data\")\n",
    "print(knn_reg.score(X_train, y_train))\n",
    "print(\"Score of test data\")\n",
    "print(knn_reg.score(X_test, y_test))"
   ]
  },
  {
   "cell_type": "code",
   "execution_count": 36,
   "id": "bd01ce6c",
   "metadata": {},
   "outputs": [
    {
     "data": {
      "image/png": "[encoded data removed]",
      "text/plain": [
       "<Figure size 432x288 with 1 Axes>"
      ]
     },
     "metadata": {
      "needs_background": "light"
     },
     "output_type": "display_data"
    }
   ],
   "source": [
    "y_hat_test = knn_reg.predict(X_test)\n",
    "plt.scatter(y_hat_test, y_test)\n",
    "plt.show()"
   ]
  },
  {
   "cell_type": "code",
   "execution_count": 37,
   "id": "e41d7db3",
   "metadata": {},
   "outputs": [
    {
     "name": "stdout",
     "output_type": "stream",
     "text": [
      "0.6151558414724946\n"
     ]
    }
   ],
   "source": [
    "from sklearn.metrics import r2_score\n",
    "r2 = r2_score(y_hat_test, y_test)\n",
    "print(r2)"
   ]
  },
  {
   "cell_type": "code",
   "execution_count": 38,
   "id": "11b1f169",
   "metadata": {},
   "outputs": [
    {
     "name": "stdout",
     "output_type": "stream",
     "text": [
      "3024497.295264624\n"
     ]
    }
   ],
   "source": [
    "from sklearn.metrics import mean_squared_error\n",
    "mse = mean_squared_error(y_hat_test, y_test)\n",
    "print(mse)"
   ]
  }
 ],
 "metadata": {
  "kernelspec": {
   "display_name": "Python 3 (ipykernel)",
   "language": "python",
   "name": "python3"
  },
  "language_info": {
   "codemirror_mode": {
    "name": "ipython",
    "version": 3
   },
   "file_extension": ".py",
   "mimetype": "text/x-python",
   "name": "python",
   "nbconvert_exporter": "python",
   "pygments_lexer": "ipython3",
   "version": "3.9.7"
  }
 },
 "nbformat": 4,
 "nbformat_minor": 5
}
